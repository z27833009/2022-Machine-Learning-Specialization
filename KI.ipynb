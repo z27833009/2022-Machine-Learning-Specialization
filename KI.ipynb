{
  "cells": [
    {
      "cell_type": "markdown",
      "metadata": {
        "id": "view-in-github",
        "colab_type": "text"
      },
      "source": [
        "<a href=\"https://colab.research.google.com/github/z27833009/2022-Machine-Learning-Specialization/blob/main/KI.ipynb\" target=\"_parent\"><img src=\"https://colab.research.google.com/assets/colab-badge.svg\" alt=\"Open In Colab\"/></a>"
      ]
    },
    {
      "cell_type": "markdown",
      "metadata": {
        "id": "vurogWzi-iBw"
      },
      "source": [
        "from sklearn import tree #导入指定模块\n",
        "\n",
        "clf = tree.DecisionTreeClassifier() #实例化\n",
        "\n",
        "clf = clf.fit(a_train , b_train) #用训练的数据训练模型\n",
        "\n",
        "result = clf.score(a_test , b_test) #导入测试集，从街口中调用需要的信息"
      ]
    },
    {
      "cell_type": "markdown",
      "metadata": {
        "id": "mJfUo5Ld-iBy"
      },
      "source": [
        "导入数据，先看下银行流水记录表的信息情况："
      ]
    },
    {
      "cell_type": "code",
      "execution_count": null,
      "metadata": {
        "id": "D_zg1obz-iBz",
        "outputId": "93986e1f-1caa-480d-c574-16252d31a42a"
      },
      "outputs": [
        {
          "data": {
            "text/html": [
              "<div>\n",
              "<style scoped>\n",
              "    .dataframe tbody tr th:only-of-type {\n",
              "        vertical-align: middle;\n",
              "    }\n",
              "\n",
              "    .dataframe tbody tr th {\n",
              "        vertical-align: top;\n",
              "    }\n",
              "\n",
              "    .dataframe thead th {\n",
              "        text-align: right;\n",
              "    }\n",
              "</style>\n",
              "<table border=\"1\" class=\"dataframe\">\n",
              "  <thead>\n",
              "    <tr style=\"text-align: right;\">\n",
              "      <th></th>\n",
              "      <th>user_id</th>\n",
              "      <th>time</th>\n",
              "      <th>loan_type</th>\n",
              "      <th>loan_amount</th>\n",
              "      <th>income</th>\n",
              "    </tr>\n",
              "  </thead>\n",
              "  <tbody>\n",
              "    <tr>\n",
              "      <th>0</th>\n",
              "      <td>6965</td>\n",
              "      <td>5894316387</td>\n",
              "      <td>0</td>\n",
              "      <td>13.756664</td>\n",
              "      <td>0</td>\n",
              "    </tr>\n",
              "    <tr>\n",
              "      <th>1</th>\n",
              "      <td>6965</td>\n",
              "      <td>5894321388</td>\n",
              "      <td>1</td>\n",
              "      <td>13.756664</td>\n",
              "      <td>0</td>\n",
              "    </tr>\n",
              "    <tr>\n",
              "      <th>2</th>\n",
              "      <td>6965</td>\n",
              "      <td>5897553564</td>\n",
              "      <td>0</td>\n",
              "      <td>14.449810</td>\n",
              "      <td>0</td>\n",
              "    </tr>\n",
              "    <tr>\n",
              "      <th>3</th>\n",
              "      <td>6965</td>\n",
              "      <td>5897563463</td>\n",
              "      <td>1</td>\n",
              "      <td>10.527763</td>\n",
              "      <td>0</td>\n",
              "    </tr>\n",
              "    <tr>\n",
              "      <th>4</th>\n",
              "      <td>6965</td>\n",
              "      <td>5897564598</td>\n",
              "      <td>1</td>\n",
              "      <td>13.651303</td>\n",
              "      <td>0</td>\n",
              "    </tr>\n",
              "  </tbody>\n",
              "</table>\n",
              "</div>"
            ],
            "text/plain": [
              "   user_id        time  loan_type  loan_amount  income\n",
              "0     6965  5894316387          0    13.756664       0\n",
              "1     6965  5894321388          1    13.756664       0\n",
              "2     6965  5897553564          0    14.449810       0\n",
              "3     6965  5897563463          1    10.527763       0\n",
              "4     6965  5897564598          1    13.651303       0"
            ]
          },
          "execution_count": 1,
          "metadata": {},
          "output_type": "execute_result"
        }
      ],
      "source": [
        "import pandas as pd\n",
        "import numpy as np\n",
        "import matplotlib.pyplot as plt\n",
        "import seaborn as sns\n",
        "columns = ['user_id','time','loan_type','loan_amount','income']\n",
        "df_bank_train = pd.read_table('bank_detail_train.txt',names = columns, sep=',' )   #银行流水记录表\n",
        "df_bank_train.head()"
      ]
    },
    {
      "cell_type": "markdown",
      "metadata": {
        "id": "BTS5LGyT-iB0"
      },
      "source": [
        "看下缺失值情况："
      ]
    },
    {
      "cell_type": "code",
      "execution_count": null,
      "metadata": {
        "id": "TE7O5zG0-iB0",
        "outputId": "cdfb0b4d-0c99-47ae-d59e-58013e80d4b5"
      },
      "outputs": [
        {
          "data": {
            "text/plain": [
              "user_id        0\n",
              "time           0\n",
              "loan_type      0\n",
              "loan_amount    0\n",
              "income         0\n",
              "dtype: int64"
            ]
          },
          "execution_count": 2,
          "metadata": {},
          "output_type": "execute_result"
        }
      ],
      "source": [
        "df_bank_train.isnull().sum()"
      ]
    },
    {
      "cell_type": "markdown",
      "metadata": {
        "id": "5lo2xR_F-iB0"
      },
      "source": [
        "发现数据完整没有缺失。再看一下用户id的总数："
      ]
    },
    {
      "cell_type": "code",
      "execution_count": null,
      "metadata": {
        "id": "M_1KLlSJ-iB0",
        "outputId": "c3569d71-2583-437c-e1fd-b7afba09cdb6"
      },
      "outputs": [
        {
          "data": {
            "text/plain": [
              "9294"
            ]
          },
          "execution_count": 3,
          "metadata": {},
          "output_type": "execute_result"
        }
      ],
      "source": [
        "len(df_bank_train.user_id.unique())"
      ]
    },
    {
      "cell_type": "markdown",
      "metadata": {
        "id": "0FtgyFk6-iB1"
      },
      "source": [
        "有9294条不同用户在银行的流水记录。\n",
        "同理导入其他5张表并看下基本信息："
      ]
    },
    {
      "cell_type": "code",
      "execution_count": null,
      "metadata": {
        "id": "83BiO0_r-iB1"
      },
      "outputs": [],
      "source": [
        "columns1 = ['user_id','time','bank_id','last_bill_amount','last_repay_amount','credit_amount','cur_bill_bal','cur_bill_minrepay','cons_num','cur_bill_amount','adjust_amount','cyclic_accr','avail_bal','borrow_cash','repay_status']\n",
        "columns2 = ['user_id','time','brows_beh','brows_num']\n",
        "columns3 = ['user_id','time']\n",
        "columns4 = ['user_id','overdue']\n",
        "columns5 = ['user_id','sex','job','eduction','marriage','residence']\n",
        "df_bill_train=pd.read_table('bill_detail_train.txt',names = columns1,sep=',' )   #账单记录表\n",
        "df_browse_train=pd.read_table('browse_history_train.txt',names = columns2,sep=',' ) #浏览信息表\n",
        "df_loan_train=pd.read_table('loan_time_train.txt',names = columns3,sep=',' ) #放款时间表\n",
        "df_overdue_train=pd.read_table('overdue_train.txt',names = columns4,sep=',' ) #逾期记录表\n",
        "df_user_train=pd.read_table('user_info_train.txt',names = columns5,sep=',' ) #用户信息表"
      ]
    },
    {
      "cell_type": "markdown",
      "metadata": {
        "id": "lli5mMoW-iB1"
      },
      "source": [
        "账单记录表："
      ]
    },
    {
      "cell_type": "code",
      "execution_count": null,
      "metadata": {
        "id": "srPE9NNQ-iB1",
        "outputId": "0f5cdfef-ea96-4388-e5b7-f4fb97067836"
      },
      "outputs": [
        {
          "data": {
            "text/html": [
              "<div>\n",
              "<style scoped>\n",
              "    .dataframe tbody tr th:only-of-type {\n",
              "        vertical-align: middle;\n",
              "    }\n",
              "\n",
              "    .dataframe tbody tr th {\n",
              "        vertical-align: top;\n",
              "    }\n",
              "\n",
              "    .dataframe thead th {\n",
              "        text-align: right;\n",
              "    }\n",
              "</style>\n",
              "<table border=\"1\" class=\"dataframe\">\n",
              "  <thead>\n",
              "    <tr style=\"text-align: right;\">\n",
              "      <th></th>\n",
              "      <th>user_id</th>\n",
              "      <th>time</th>\n",
              "      <th>bank_id</th>\n",
              "      <th>last_bill_amount</th>\n",
              "      <th>last_repay_amount</th>\n",
              "      <th>credit_amount</th>\n",
              "      <th>cur_bill_bal</th>\n",
              "      <th>cur_bill_minrepay</th>\n",
              "      <th>cons_num</th>\n",
              "      <th>cur_bill_amount</th>\n",
              "      <th>adjust_amount</th>\n",
              "      <th>cyclic_accr</th>\n",
              "      <th>avail_bal</th>\n",
              "      <th>borrow_cash</th>\n",
              "      <th>repay_status</th>\n",
              "    </tr>\n",
              "  </thead>\n",
              "  <tbody>\n",
              "    <tr>\n",
              "      <th>0</th>\n",
              "      <td>3150</td>\n",
              "      <td>5906744363</td>\n",
              "      <td>6</td>\n",
              "      <td>18.626118</td>\n",
              "      <td>18.661937</td>\n",
              "      <td>20.664418</td>\n",
              "      <td>18.905766</td>\n",
              "      <td>17.847133</td>\n",
              "      <td>1</td>\n",
              "      <td>0.0</td>\n",
              "      <td>0.0</td>\n",
              "      <td>0.0</td>\n",
              "      <td>0.0</td>\n",
              "      <td>19.971271</td>\n",
              "      <td>0</td>\n",
              "    </tr>\n",
              "    <tr>\n",
              "      <th>1</th>\n",
              "      <td>3150</td>\n",
              "      <td>5906744401</td>\n",
              "      <td>6</td>\n",
              "      <td>18.905766</td>\n",
              "      <td>18.909954</td>\n",
              "      <td>20.664418</td>\n",
              "      <td>19.113305</td>\n",
              "      <td>17.911506</td>\n",
              "      <td>1</td>\n",
              "      <td>0.0</td>\n",
              "      <td>0.0</td>\n",
              "      <td>0.0</td>\n",
              "      <td>0.0</td>\n",
              "      <td>19.971271</td>\n",
              "      <td>0</td>\n",
              "    </tr>\n",
              "    <tr>\n",
              "      <th>2</th>\n",
              "      <td>3150</td>\n",
              "      <td>5906744427</td>\n",
              "      <td>6</td>\n",
              "      <td>19.113305</td>\n",
              "      <td>19.150290</td>\n",
              "      <td>20.664418</td>\n",
              "      <td>19.300194</td>\n",
              "      <td>17.977610</td>\n",
              "      <td>1</td>\n",
              "      <td>0.0</td>\n",
              "      <td>0.0</td>\n",
              "      <td>0.0</td>\n",
              "      <td>0.0</td>\n",
              "      <td>19.971271</td>\n",
              "      <td>0</td>\n",
              "    </tr>\n",
              "    <tr>\n",
              "      <th>3</th>\n",
              "      <td>3150</td>\n",
              "      <td>5906744515</td>\n",
              "      <td>6</td>\n",
              "      <td>19.300194</td>\n",
              "      <td>19.300280</td>\n",
              "      <td>21.000890</td>\n",
              "      <td>20.303240</td>\n",
              "      <td>18.477177</td>\n",
              "      <td>1</td>\n",
              "      <td>0.0</td>\n",
              "      <td>0.0</td>\n",
              "      <td>0.0</td>\n",
              "      <td>0.0</td>\n",
              "      <td>20.307743</td>\n",
              "      <td>0</td>\n",
              "    </tr>\n",
              "    <tr>\n",
              "      <th>4</th>\n",
              "      <td>3150</td>\n",
              "      <td>5906744562</td>\n",
              "      <td>6</td>\n",
              "      <td>20.303240</td>\n",
              "      <td>20.307744</td>\n",
              "      <td>21.000890</td>\n",
              "      <td>20.357134</td>\n",
              "      <td>18.510985</td>\n",
              "      <td>1</td>\n",
              "      <td>0.0</td>\n",
              "      <td>0.0</td>\n",
              "      <td>0.0</td>\n",
              "      <td>0.0</td>\n",
              "      <td>20.307743</td>\n",
              "      <td>0</td>\n",
              "    </tr>\n",
              "  </tbody>\n",
              "</table>\n",
              "</div>"
            ],
            "text/plain": [
              "   user_id        time  bank_id  last_bill_amount  last_repay_amount  \\\n",
              "0     3150  5906744363        6         18.626118          18.661937   \n",
              "1     3150  5906744401        6         18.905766          18.909954   \n",
              "2     3150  5906744427        6         19.113305          19.150290   \n",
              "3     3150  5906744515        6         19.300194          19.300280   \n",
              "4     3150  5906744562        6         20.303240          20.307744   \n",
              "\n",
              "   credit_amount  cur_bill_bal  cur_bill_minrepay  cons_num  cur_bill_amount  \\\n",
              "0      20.664418     18.905766          17.847133         1              0.0   \n",
              "1      20.664418     19.113305          17.911506         1              0.0   \n",
              "2      20.664418     19.300194          17.977610         1              0.0   \n",
              "3      21.000890     20.303240          18.477177         1              0.0   \n",
              "4      21.000890     20.357134          18.510985         1              0.0   \n",
              "\n",
              "   adjust_amount  cyclic_accr  avail_bal  borrow_cash  repay_status  \n",
              "0            0.0          0.0        0.0    19.971271             0  \n",
              "1            0.0          0.0        0.0    19.971271             0  \n",
              "2            0.0          0.0        0.0    19.971271             0  \n",
              "3            0.0          0.0        0.0    20.307743             0  \n",
              "4            0.0          0.0        0.0    20.307743             0  "
            ]
          },
          "execution_count": 5,
          "metadata": {},
          "output_type": "execute_result"
        }
      ],
      "source": [
        "df_bill_train.head()"
      ]
    },
    {
      "cell_type": "markdown",
      "metadata": {
        "id": "_x0UQRjU-iB2"
      },
      "source": [
        "浏览信息表："
      ]
    },
    {
      "cell_type": "code",
      "execution_count": null,
      "metadata": {
        "id": "5nLxS8S6-iB2",
        "outputId": "66f323d9-03a4-487f-db4b-a50ca1d59271"
      },
      "outputs": [
        {
          "data": {
            "text/html": [
              "<div>\n",
              "<style scoped>\n",
              "    .dataframe tbody tr th:only-of-type {\n",
              "        vertical-align: middle;\n",
              "    }\n",
              "\n",
              "    .dataframe tbody tr th {\n",
              "        vertical-align: top;\n",
              "    }\n",
              "\n",
              "    .dataframe thead th {\n",
              "        text-align: right;\n",
              "    }\n",
              "</style>\n",
              "<table border=\"1\" class=\"dataframe\">\n",
              "  <thead>\n",
              "    <tr style=\"text-align: right;\">\n",
              "      <th></th>\n",
              "      <th>user_id</th>\n",
              "      <th>time</th>\n",
              "      <th>brows_beh</th>\n",
              "      <th>brows_num</th>\n",
              "    </tr>\n",
              "  </thead>\n",
              "  <tbody>\n",
              "    <tr>\n",
              "      <th>0</th>\n",
              "      <td>34801</td>\n",
              "      <td>5926003545</td>\n",
              "      <td>173</td>\n",
              "      <td>1</td>\n",
              "    </tr>\n",
              "    <tr>\n",
              "      <th>1</th>\n",
              "      <td>34801</td>\n",
              "      <td>5926003545</td>\n",
              "      <td>164</td>\n",
              "      <td>4</td>\n",
              "    </tr>\n",
              "    <tr>\n",
              "      <th>2</th>\n",
              "      <td>34801</td>\n",
              "      <td>5926003545</td>\n",
              "      <td>38</td>\n",
              "      <td>7</td>\n",
              "    </tr>\n",
              "    <tr>\n",
              "      <th>3</th>\n",
              "      <td>34801</td>\n",
              "      <td>5926003545</td>\n",
              "      <td>45</td>\n",
              "      <td>1</td>\n",
              "    </tr>\n",
              "    <tr>\n",
              "      <th>4</th>\n",
              "      <td>34801</td>\n",
              "      <td>5926003545</td>\n",
              "      <td>110</td>\n",
              "      <td>7</td>\n",
              "    </tr>\n",
              "  </tbody>\n",
              "</table>\n",
              "</div>"
            ],
            "text/plain": [
              "   user_id        time  brows_beh  brows_num\n",
              "0    34801  5926003545        173          1\n",
              "1    34801  5926003545        164          4\n",
              "2    34801  5926003545         38          7\n",
              "3    34801  5926003545         45          1\n",
              "4    34801  5926003545        110          7"
            ]
          },
          "execution_count": 6,
          "metadata": {},
          "output_type": "execute_result"
        }
      ],
      "source": [
        "df_browse_train.head()"
      ]
    },
    {
      "cell_type": "markdown",
      "metadata": {
        "id": "UnZFe6bk-iB2"
      },
      "source": [
        "放款时间表:"
      ]
    },
    {
      "cell_type": "code",
      "execution_count": null,
      "metadata": {
        "id": "GGJUXxKW-iB2",
        "outputId": "6592e315-bb08-4ade-f8a2-eff55401150f"
      },
      "outputs": [
        {
          "data": {
            "text/html": [
              "<div>\n",
              "<style scoped>\n",
              "    .dataframe tbody tr th:only-of-type {\n",
              "        vertical-align: middle;\n",
              "    }\n",
              "\n",
              "    .dataframe tbody tr th {\n",
              "        vertical-align: top;\n",
              "    }\n",
              "\n",
              "    .dataframe thead th {\n",
              "        text-align: right;\n",
              "    }\n",
              "</style>\n",
              "<table border=\"1\" class=\"dataframe\">\n",
              "  <thead>\n",
              "    <tr style=\"text-align: right;\">\n",
              "      <th></th>\n",
              "      <th>user_id</th>\n",
              "      <th>time</th>\n",
              "    </tr>\n",
              "  </thead>\n",
              "  <tbody>\n",
              "    <tr>\n",
              "      <th>0</th>\n",
              "      <td>1</td>\n",
              "      <td>5914855887</td>\n",
              "    </tr>\n",
              "    <tr>\n",
              "      <th>1</th>\n",
              "      <td>2</td>\n",
              "      <td>5914855887</td>\n",
              "    </tr>\n",
              "    <tr>\n",
              "      <th>2</th>\n",
              "      <td>3</td>\n",
              "      <td>5914855887</td>\n",
              "    </tr>\n",
              "    <tr>\n",
              "      <th>3</th>\n",
              "      <td>4</td>\n",
              "      <td>5914855887</td>\n",
              "    </tr>\n",
              "    <tr>\n",
              "      <th>4</th>\n",
              "      <td>5</td>\n",
              "      <td>5914855887</td>\n",
              "    </tr>\n",
              "  </tbody>\n",
              "</table>\n",
              "</div>"
            ],
            "text/plain": [
              "   user_id        time\n",
              "0        1  5914855887\n",
              "1        2  5914855887\n",
              "2        3  5914855887\n",
              "3        4  5914855887\n",
              "4        5  5914855887"
            ]
          },
          "execution_count": 7,
          "metadata": {},
          "output_type": "execute_result"
        }
      ],
      "source": [
        "df_loan_train.head()"
      ]
    },
    {
      "cell_type": "markdown",
      "metadata": {
        "id": "P2bshc58-iB2"
      },
      "source": [
        "逾期记录表："
      ]
    },
    {
      "cell_type": "code",
      "execution_count": null,
      "metadata": {
        "id": "H0LTAXzi-iB2",
        "outputId": "0ab905e3-9e8c-41bb-ca20-67f6deb11160"
      },
      "outputs": [
        {
          "data": {
            "text/html": [
              "<div>\n",
              "<style scoped>\n",
              "    .dataframe tbody tr th:only-of-type {\n",
              "        vertical-align: middle;\n",
              "    }\n",
              "\n",
              "    .dataframe tbody tr th {\n",
              "        vertical-align: top;\n",
              "    }\n",
              "\n",
              "    .dataframe thead th {\n",
              "        text-align: right;\n",
              "    }\n",
              "</style>\n",
              "<table border=\"1\" class=\"dataframe\">\n",
              "  <thead>\n",
              "    <tr style=\"text-align: right;\">\n",
              "      <th></th>\n",
              "      <th>user_id</th>\n",
              "      <th>overdue</th>\n",
              "    </tr>\n",
              "  </thead>\n",
              "  <tbody>\n",
              "    <tr>\n",
              "      <th>0</th>\n",
              "      <td>1</td>\n",
              "      <td>0</td>\n",
              "    </tr>\n",
              "    <tr>\n",
              "      <th>1</th>\n",
              "      <td>2</td>\n",
              "      <td>0</td>\n",
              "    </tr>\n",
              "    <tr>\n",
              "      <th>2</th>\n",
              "      <td>3</td>\n",
              "      <td>0</td>\n",
              "    </tr>\n",
              "    <tr>\n",
              "      <th>3</th>\n",
              "      <td>4</td>\n",
              "      <td>1</td>\n",
              "    </tr>\n",
              "    <tr>\n",
              "      <th>4</th>\n",
              "      <td>5</td>\n",
              "      <td>0</td>\n",
              "    </tr>\n",
              "  </tbody>\n",
              "</table>\n",
              "</div>"
            ],
            "text/plain": [
              "   user_id  overdue\n",
              "0        1        0\n",
              "1        2        0\n",
              "2        3        0\n",
              "3        4        1\n",
              "4        5        0"
            ]
          },
          "execution_count": 8,
          "metadata": {},
          "output_type": "execute_result"
        }
      ],
      "source": [
        "df_overdue_train.head()"
      ]
    },
    {
      "cell_type": "markdown",
      "metadata": {
        "id": "tlob5k33-iB2"
      },
      "source": [
        "用户信息表："
      ]
    },
    {
      "cell_type": "code",
      "execution_count": null,
      "metadata": {
        "id": "8Z7F6DIL-iB2",
        "outputId": "c376f4b7-5ffb-4059-e46c-ecad5bf3a827"
      },
      "outputs": [
        {
          "data": {
            "text/html": [
              "<div>\n",
              "<style scoped>\n",
              "    .dataframe tbody tr th:only-of-type {\n",
              "        vertical-align: middle;\n",
              "    }\n",
              "\n",
              "    .dataframe tbody tr th {\n",
              "        vertical-align: top;\n",
              "    }\n",
              "\n",
              "    .dataframe thead th {\n",
              "        text-align: right;\n",
              "    }\n",
              "</style>\n",
              "<table border=\"1\" class=\"dataframe\">\n",
              "  <thead>\n",
              "    <tr style=\"text-align: right;\">\n",
              "      <th></th>\n",
              "      <th>user_id</th>\n",
              "      <th>sex</th>\n",
              "      <th>job</th>\n",
              "      <th>eduction</th>\n",
              "      <th>marriage</th>\n",
              "      <th>residence</th>\n",
              "    </tr>\n",
              "  </thead>\n",
              "  <tbody>\n",
              "    <tr>\n",
              "      <th>0</th>\n",
              "      <td>3150</td>\n",
              "      <td>1</td>\n",
              "      <td>2</td>\n",
              "      <td>4</td>\n",
              "      <td>1</td>\n",
              "      <td>4</td>\n",
              "    </tr>\n",
              "    <tr>\n",
              "      <th>1</th>\n",
              "      <td>6965</td>\n",
              "      <td>1</td>\n",
              "      <td>2</td>\n",
              "      <td>4</td>\n",
              "      <td>3</td>\n",
              "      <td>2</td>\n",
              "    </tr>\n",
              "    <tr>\n",
              "      <th>2</th>\n",
              "      <td>1265</td>\n",
              "      <td>1</td>\n",
              "      <td>3</td>\n",
              "      <td>4</td>\n",
              "      <td>3</td>\n",
              "      <td>1</td>\n",
              "    </tr>\n",
              "    <tr>\n",
              "      <th>3</th>\n",
              "      <td>6360</td>\n",
              "      <td>1</td>\n",
              "      <td>2</td>\n",
              "      <td>4</td>\n",
              "      <td>3</td>\n",
              "      <td>2</td>\n",
              "    </tr>\n",
              "    <tr>\n",
              "      <th>4</th>\n",
              "      <td>2583</td>\n",
              "      <td>2</td>\n",
              "      <td>2</td>\n",
              "      <td>2</td>\n",
              "      <td>1</td>\n",
              "      <td>1</td>\n",
              "    </tr>\n",
              "  </tbody>\n",
              "</table>\n",
              "</div>"
            ],
            "text/plain": [
              "   user_id  sex  job  eduction  marriage  residence\n",
              "0     3150    1    2         4         1          4\n",
              "1     6965    1    2         4         3          2\n",
              "2     1265    1    3         4         3          1\n",
              "3     6360    1    2         4         3          2\n",
              "4     2583    2    2         2         1          1"
            ]
          },
          "execution_count": 9,
          "metadata": {},
          "output_type": "execute_result"
        }
      ],
      "source": [
        "df_user_train.head()"
      ]
    },
    {
      "cell_type": "markdown",
      "metadata": {
        "id": "I-ITjeh7-iB2"
      },
      "source": [
        "看下各个表的用户id数"
      ]
    },
    {
      "cell_type": "code",
      "execution_count": null,
      "metadata": {
        "id": "SttMSzCt-iB2",
        "outputId": "bbd1dedb-cb5b-48b6-9677-783a7b920b54"
      },
      "outputs": [
        {
          "name": "stdout",
          "output_type": "stream",
          "text": [
            "9294 53174 47330 55596 55596 55596\n"
          ]
        }
      ],
      "source": [
        "print(len(df_bank_train.user_id.unique()),\n",
        "     len(df_bill_train.user_id.unique()),\n",
        "     len(df_browse_train.user_id.unique()),\n",
        "     len(df_loan_train.user_id.unique()),\n",
        "     len(df_overdue_train.user_id.unique()),\n",
        "     len(df_user_train.user_id.unique()))"
      ]
    },
    {
      "cell_type": "markdown",
      "metadata": {
        "id": "qIRz0yAW-iB3"
      },
      "source": [
        "发现用户信息表，是否逾期表，放款时间表这三张表的id数目都是55,596，银行流水表为9,294，浏览信息表为47,330，信用卡账单表为53,174。\n",
        "通过用户id数得到并非每个用户都有银行流水记录、信用卡账单等信息，所以这里我们取6个表共同用户的记录筛选后组成完整的表。\n",
        "进一步筛选，这里加入时间范围\n",
        "\n"
      ]
    },
    {
      "cell_type": "markdown",
      "metadata": {
        "id": "o3cj-1iY-iB3"
      },
      "source": [
        "如图，在本课题中是否逾期是在放款时间那一天之后开始计算的，放款时间之后三十天以上没有还款将视为逾期，我们要预测的测试集都是还没有放款的用户特征，所以训练数据这里我们也选取放款时间之前的特征，将存在时间戳的表与放款时间表进行交叉，只筛选此时间范围内的用户id。\n",
        "通过上面各个表的信息情况，可以看到除了放款时间表外有时间字段的是银行流水记录表、账单记录表、浏览信息表。"
      ]
    },
    {
      "cell_type": "markdown",
      "metadata": {
        "id": "9GgkW_-p-iB3"
      },
      "source": [
        "(1)筛选符合条件的银行流水记录表的用户id："
      ]
    },
    {
      "cell_type": "code",
      "execution_count": null,
      "metadata": {
        "id": "MC5Hw94T-iB3",
        "outputId": "ea9357e2-9bff-441a-889d-90f60b9a8e84"
      },
      "outputs": [
        {
          "data": {
            "text/html": [
              "<div>\n",
              "<style scoped>\n",
              "    .dataframe tbody tr th:only-of-type {\n",
              "        vertical-align: middle;\n",
              "    }\n",
              "\n",
              "    .dataframe tbody tr th {\n",
              "        vertical-align: top;\n",
              "    }\n",
              "\n",
              "    .dataframe thead th {\n",
              "        text-align: right;\n",
              "    }\n",
              "</style>\n",
              "<table border=\"1\" class=\"dataframe\">\n",
              "  <thead>\n",
              "    <tr style=\"text-align: right;\">\n",
              "      <th></th>\n",
              "      <th>user_id</th>\n",
              "      <th>time_x</th>\n",
              "      <th>loan_type</th>\n",
              "      <th>loan_amount</th>\n",
              "      <th>income</th>\n",
              "      <th>time_y</th>\n",
              "    </tr>\n",
              "  </thead>\n",
              "  <tbody>\n",
              "    <tr>\n",
              "      <th>0</th>\n",
              "      <td>6965</td>\n",
              "      <td>5894316387</td>\n",
              "      <td>0</td>\n",
              "      <td>13.756664</td>\n",
              "      <td>0</td>\n",
              "      <td>5923841487</td>\n",
              "    </tr>\n",
              "    <tr>\n",
              "      <th>1</th>\n",
              "      <td>6965</td>\n",
              "      <td>5894321388</td>\n",
              "      <td>1</td>\n",
              "      <td>13.756664</td>\n",
              "      <td>0</td>\n",
              "      <td>5923841487</td>\n",
              "    </tr>\n",
              "    <tr>\n",
              "      <th>2</th>\n",
              "      <td>6965</td>\n",
              "      <td>5897553564</td>\n",
              "      <td>0</td>\n",
              "      <td>14.449810</td>\n",
              "      <td>0</td>\n",
              "      <td>5923841487</td>\n",
              "    </tr>\n",
              "    <tr>\n",
              "      <th>3</th>\n",
              "      <td>6965</td>\n",
              "      <td>5897563463</td>\n",
              "      <td>1</td>\n",
              "      <td>10.527763</td>\n",
              "      <td>0</td>\n",
              "      <td>5923841487</td>\n",
              "    </tr>\n",
              "    <tr>\n",
              "      <th>4</th>\n",
              "      <td>6965</td>\n",
              "      <td>5897564598</td>\n",
              "      <td>1</td>\n",
              "      <td>13.651303</td>\n",
              "      <td>0</td>\n",
              "      <td>5923841487</td>\n",
              "    </tr>\n",
              "  </tbody>\n",
              "</table>\n",
              "</div>"
            ],
            "text/plain": [
              "   user_id      time_x  loan_type  loan_amount  income      time_y\n",
              "0     6965  5894316387          0    13.756664       0  5923841487\n",
              "1     6965  5894321388          1    13.756664       0  5923841487\n",
              "2     6965  5897553564          0    14.449810       0  5923841487\n",
              "3     6965  5897563463          1    10.527763       0  5923841487\n",
              "4     6965  5897564598          1    13.651303       0  5923841487"
            ]
          },
          "execution_count": 11,
          "metadata": {},
          "output_type": "execute_result"
        }
      ],
      "source": [
        "df = pd.merge(left = df_bank_train, right= df_loan_train, how = 'left',on = 'user_id')\n",
        "df.head()"
      ]
    },
    {
      "cell_type": "markdown",
      "metadata": {
        "id": "CmaUVa0n-iB3"
      },
      "source": [
        "time_x表示流水记录时间，time_y表示放款时间，然后筛选出流水时间<放款时间的记录："
      ]
    },
    {
      "cell_type": "code",
      "execution_count": null,
      "metadata": {
        "id": "3ziEtMbR-iB3",
        "outputId": "4ec2a00a-c954-42fa-d0fc-27cca8ff60b7"
      },
      "outputs": [
        {
          "data": {
            "text/html": [
              "<div>\n",
              "<style scoped>\n",
              "    .dataframe tbody tr th:only-of-type {\n",
              "        vertical-align: middle;\n",
              "    }\n",
              "\n",
              "    .dataframe tbody tr th {\n",
              "        vertical-align: top;\n",
              "    }\n",
              "\n",
              "    .dataframe thead th {\n",
              "        text-align: right;\n",
              "    }\n",
              "</style>\n",
              "<table border=\"1\" class=\"dataframe\">\n",
              "  <thead>\n",
              "    <tr style=\"text-align: right;\">\n",
              "      <th></th>\n",
              "      <th>user_id</th>\n",
              "      <th>time_x</th>\n",
              "      <th>loan_type</th>\n",
              "      <th>loan_amount</th>\n",
              "      <th>income</th>\n",
              "      <th>time_y</th>\n",
              "    </tr>\n",
              "  </thead>\n",
              "  <tbody>\n",
              "    <tr>\n",
              "      <th>0</th>\n",
              "      <td>6965</td>\n",
              "      <td>5894316387</td>\n",
              "      <td>0</td>\n",
              "      <td>13.756664</td>\n",
              "      <td>0</td>\n",
              "      <td>5923841487</td>\n",
              "    </tr>\n",
              "    <tr>\n",
              "      <th>1</th>\n",
              "      <td>6965</td>\n",
              "      <td>5894321388</td>\n",
              "      <td>1</td>\n",
              "      <td>13.756664</td>\n",
              "      <td>0</td>\n",
              "      <td>5923841487</td>\n",
              "    </tr>\n",
              "    <tr>\n",
              "      <th>2</th>\n",
              "      <td>6965</td>\n",
              "      <td>5897553564</td>\n",
              "      <td>0</td>\n",
              "      <td>14.449810</td>\n",
              "      <td>0</td>\n",
              "      <td>5923841487</td>\n",
              "    </tr>\n",
              "    <tr>\n",
              "      <th>3</th>\n",
              "      <td>6965</td>\n",
              "      <td>5897563463</td>\n",
              "      <td>1</td>\n",
              "      <td>10.527763</td>\n",
              "      <td>0</td>\n",
              "      <td>5923841487</td>\n",
              "    </tr>\n",
              "    <tr>\n",
              "      <th>4</th>\n",
              "      <td>6965</td>\n",
              "      <td>5897564598</td>\n",
              "      <td>1</td>\n",
              "      <td>13.651303</td>\n",
              "      <td>0</td>\n",
              "      <td>5923841487</td>\n",
              "    </tr>\n",
              "  </tbody>\n",
              "</table>\n",
              "</div>"
            ],
            "text/plain": [
              "   user_id      time_x  loan_type  loan_amount  income      time_y\n",
              "0     6965  5894316387          0    13.756664       0  5923841487\n",
              "1     6965  5894321388          1    13.756664       0  5923841487\n",
              "2     6965  5897553564          0    14.449810       0  5923841487\n",
              "3     6965  5897563463          1    10.527763       0  5923841487\n",
              "4     6965  5897564598          1    13.651303       0  5923841487"
            ]
          },
          "execution_count": 12,
          "metadata": {},
          "output_type": "execute_result"
        }
      ],
      "source": [
        "t = df[(df['time_x']<=df['time_y'])]\n",
        "t.head()"
      ]
    },
    {
      "cell_type": "markdown",
      "metadata": {
        "id": "SYkjejs9-iB3"
      },
      "source": [
        "筛选数用户id这一列并进行去重处理："
      ]
    },
    {
      "cell_type": "code",
      "execution_count": null,
      "metadata": {
        "id": "t0fP2cSX-iB3",
        "outputId": "3045422b-bf66-45c8-f438-1c201295ecf4"
      },
      "outputs": [
        {
          "name": "stdout",
          "output_type": "stream",
          "text": [
            "<class 'pandas.core.frame.DataFrame'>\n",
            "Int64Index: 9271 entries, 0 to 6069672\n",
            "Data columns (total 1 columns):\n",
            "user_id    9271 non-null int64\n",
            "dtypes: int64(1)\n",
            "memory usage: 144.9 KB\n"
          ]
        }
      ],
      "source": [
        "bank_user = t[['user_id']]\n",
        "bank_user = bank_user.drop_duplicates(subset = 'user_id',keep='first')\n",
        "bank_user.info()"
      ]
    },
    {
      "cell_type": "markdown",
      "metadata": {
        "id": "MwrjgJob-iB4"
      },
      "source": [
        "可以看到在银行流水记录表中符合条件的还有9271个不同用户。\n",
        "(2)筛选符合条件的账单记录表的用户id："
      ]
    },
    {
      "cell_type": "code",
      "execution_count": null,
      "metadata": {
        "id": "kCX3kp5E-iB4",
        "outputId": "f25b35d8-94ce-44a0-8836-4c989f09cb6e"
      },
      "outputs": [
        {
          "name": "stdout",
          "output_type": "stream",
          "text": [
            "<class 'pandas.core.frame.DataFrame'>\n",
            "Int64Index: 46739 entries, 0 to 2338115\n",
            "Data columns (total 1 columns):\n",
            "user_id    46739 non-null int64\n",
            "dtypes: int64(1)\n",
            "memory usage: 730.3 KB\n"
          ]
        }
      ],
      "source": [
        "df1 = pd.merge(left = df_bill_train, right= df_loan_train, how = 'left',on = 'user_id')\n",
        "t1 = df1[(df1['time_x']<=df1['time_y'])]\n",
        "bill_user = t1[['user_id']]\n",
        "bill_user = bill_user.drop_duplicates(subset = 'user_id',keep='first')\n",
        "bill_user.info()"
      ]
    },
    {
      "cell_type": "markdown",
      "metadata": {
        "id": "LG3t9u1m-iB4"
      },
      "source": [
        "账单记录表中符合条件的还有46739个不同用户。\n",
        "(3)筛选符合条件的浏览信息表的用户id："
      ]
    },
    {
      "cell_type": "code",
      "execution_count": null,
      "metadata": {
        "id": "4IAvBc34-iB4",
        "outputId": "b6ce632a-34fe-4c03-ff55-6896ec492f5f"
      },
      "outputs": [
        {
          "name": "stdout",
          "output_type": "stream",
          "text": [
            "<class 'pandas.core.frame.DataFrame'>\n",
            "Int64Index: 44945 entries, 0 to 22919430\n",
            "Data columns (total 1 columns):\n",
            "user_id    44945 non-null int64\n",
            "dtypes: int64(1)\n",
            "memory usage: 702.3 KB\n"
          ]
        }
      ],
      "source": [
        "df2 = pd.merge(left = df_browse_train, right= df_loan_train, how = 'left',on = 'user_id')\n",
        "t2= df2[(df2['time_x']<=df2['time_y'])]\n",
        "browse_user = t2[['user_id']]\n",
        "browse_user= browse_user.drop_duplicates(subset = 'user_id',keep='first')\n",
        "browse_user.info()"
      ]
    },
    {
      "cell_type": "markdown",
      "metadata": {
        "id": "r6EVwQpo-iB4"
      },
      "source": [
        "浏览信息表中符合条件的还有44945个不同用户。\n",
        "筛选出这6张表共有的用户id（实际为上述的三张表共同的用户id即可）"
      ]
    },
    {
      "cell_type": "code",
      "execution_count": null,
      "metadata": {
        "id": "X4Zhrptw-iB4",
        "outputId": "32a7effb-87ee-400f-e483-8077ecf72559"
      },
      "outputs": [
        {
          "name": "stdout",
          "output_type": "stream",
          "text": [
            "<class 'pandas.core.frame.DataFrame'>\n",
            "Int64Index: 5735 entries, 0 to 5734\n",
            "Data columns (total 1 columns):\n",
            "user_id    5735 non-null int64\n",
            "dtypes: int64(1)\n",
            "memory usage: 89.6 KB\n"
          ]
        }
      ],
      "source": [
        "user1 = pd.merge(left=bank_user,right=browse_user,how='inner',on = 'user_id')\n",
        "user2 = pd.merge(left=user1,right=bill_user,how='inner',on = 'user_id')\n",
        "user2.info()"
      ]
    },
    {
      "cell_type": "markdown",
      "metadata": {
        "id": "UFyz6JXk-iB4"
      },
      "source": [
        "得出5735个用户的记录是完整的。然后通过这5735个id筛选每张表的记录，并进行字段预处理。\n",
        "(1)银行记录表\n",
        "先筛选出id为‘user2’的记录，根据收入，支出以及工资这三个字段的交易类型进行筛选，并按id进行分组统计，每个分组中生成新的变量。"
      ]
    },
    {
      "cell_type": "code",
      "execution_count": null,
      "metadata": {
        "id": "NgsADI-Q-iB4"
      },
      "outputs": [],
      "source": [
        "bank_select = pd.merge(left=df_bank_train,right = user2,how='inner',on='user_id')\n",
        "b1= bank_select[(bank_select['loan_type'] == 0)].groupby(['user_id'], as_index=False)  # 收入统计\n",
        "b2 = bank_select[(bank_select['loan_type'] == 1)].groupby(['user_id'], as_index=False)  # 支出统计\n",
        "b3 = bank_select[(bank_select['income'] == 1)].groupby(['user_id'], as_index=False)  # 工资收入统计\n",
        "c1 = b1['loan_amount'].agg({'income_num': 'count', 'income_amount': 'sum'})  #三表共有用户在放款之前的收入次数和收入总额\n",
        "c2 = b2['loan_amount'].agg({'expen_num': 'count', 'expen_amount': 'sum'})  #支出次数和支出额\n",
        "c3 = b3['loan_amount'].agg({'wages_num': 'count', 'wages_amount': 'sum'})  #工资收入次数和工资收入额"
      ]
    },
    {
      "cell_type": "markdown",
      "metadata": {
        "id": "m0s1pvFR-iB4"
      },
      "source": [
        "将生成的字段分别与user2 id交叉组合到一起，由于是分组统计生成的字段，分组外用户id对应的数据是缺失的，这里缺失的数据全部填0"
      ]
    },
    {
      "cell_type": "code",
      "execution_count": null,
      "metadata": {
        "id": "Zk5DjjT2-iB4"
      },
      "outputs": [],
      "source": [
        "d1 = pd.merge(left=user2,right =c1,how = 'left',on='user_id')\n",
        "d1 = d1.fillna(0)\n",
        "d2 = pd.merge(left=user2,right =c2,how = 'left',on='user_id')\n",
        "d2 = d2.fillna(0)\n",
        "d3 = pd.merge(left=user2,right =c3,how = 'left',on='user_id')\n",
        "d3 = d3.fillna(0)"
      ]
    },
    {
      "cell_type": "markdown",
      "metadata": {
        "id": "EzoNq9dQ-iB7"
      },
      "source": [
        "将填充完整的六个字段组合到一起"
      ]
    },
    {
      "cell_type": "code",
      "execution_count": null,
      "metadata": {
        "id": "6a05uHe0-iB7",
        "outputId": "5a8cec88-57cc-4fed-b190-53e1bf667ee6"
      },
      "outputs": [
        {
          "data": {
            "text/html": [
              "<div>\n",
              "<style scoped>\n",
              "    .dataframe tbody tr th:only-of-type {\n",
              "        vertical-align: middle;\n",
              "    }\n",
              "\n",
              "    .dataframe tbody tr th {\n",
              "        vertical-align: top;\n",
              "    }\n",
              "\n",
              "    .dataframe thead th {\n",
              "        text-align: right;\n",
              "    }\n",
              "</style>\n",
              "<table border=\"1\" class=\"dataframe\">\n",
              "  <thead>\n",
              "    <tr style=\"text-align: right;\">\n",
              "      <th></th>\n",
              "      <th>user_id</th>\n",
              "      <th>income_num</th>\n",
              "      <th>income_amount</th>\n",
              "      <th>expen_num</th>\n",
              "      <th>expen_amount</th>\n",
              "      <th>wages_num</th>\n",
              "      <th>wages_amount</th>\n",
              "    </tr>\n",
              "  </thead>\n",
              "  <tbody>\n",
              "    <tr>\n",
              "      <th>0</th>\n",
              "      <td>6965</td>\n",
              "      <td>75.0</td>\n",
              "      <td>972.850228</td>\n",
              "      <td>289.0</td>\n",
              "      <td>3234.531975</td>\n",
              "      <td>0.0</td>\n",
              "      <td>0.000000</td>\n",
              "    </tr>\n",
              "    <tr>\n",
              "      <th>1</th>\n",
              "      <td>1265</td>\n",
              "      <td>125.0</td>\n",
              "      <td>1708.206195</td>\n",
              "      <td>294.0</td>\n",
              "      <td>3662.457063</td>\n",
              "      <td>0.0</td>\n",
              "      <td>0.000000</td>\n",
              "    </tr>\n",
              "    <tr>\n",
              "      <th>2</th>\n",
              "      <td>2583</td>\n",
              "      <td>213.0</td>\n",
              "      <td>2736.475318</td>\n",
              "      <td>618.0</td>\n",
              "      <td>7064.310678</td>\n",
              "      <td>0.0</td>\n",
              "      <td>0.000000</td>\n",
              "    </tr>\n",
              "    <tr>\n",
              "      <th>3</th>\n",
              "      <td>29165</td>\n",
              "      <td>189.0</td>\n",
              "      <td>2277.607807</td>\n",
              "      <td>473.0</td>\n",
              "      <td>5099.861165</td>\n",
              "      <td>14.0</td>\n",
              "      <td>202.630532</td>\n",
              "    </tr>\n",
              "    <tr>\n",
              "      <th>4</th>\n",
              "      <td>2443</td>\n",
              "      <td>252.0</td>\n",
              "      <td>3020.288782</td>\n",
              "      <td>341.0</td>\n",
              "      <td>3762.790364</td>\n",
              "      <td>0.0</td>\n",
              "      <td>0.000000</td>\n",
              "    </tr>\n",
              "  </tbody>\n",
              "</table>\n",
              "</div>"
            ],
            "text/plain": [
              "   user_id  income_num  income_amount  expen_num  expen_amount  wages_num  \\\n",
              "0     6965        75.0     972.850228      289.0   3234.531975        0.0   \n",
              "1     1265       125.0    1708.206195      294.0   3662.457063        0.0   \n",
              "2     2583       213.0    2736.475318      618.0   7064.310678        0.0   \n",
              "3    29165       189.0    2277.607807      473.0   5099.861165       14.0   \n",
              "4     2443       252.0    3020.288782      341.0   3762.790364        0.0   \n",
              "\n",
              "   wages_amount  \n",
              "0      0.000000  \n",
              "1      0.000000  \n",
              "2      0.000000  \n",
              "3    202.630532  \n",
              "4      0.000000  "
            ]
          },
          "execution_count": 19,
          "metadata": {},
          "output_type": "execute_result"
        }
      ],
      "source": [
        "bank_train = d1.merge(d2)\n",
        "bank_train = bank_train.merge(d3)\n",
        "bank_train.head()"
      ]
    },
    {
      "cell_type": "markdown",
      "metadata": {
        "id": "BgJ9Z2NL-iB7"
      },
      "source": [
        "(2)账单信息表\n",
        "去掉了时间、银行id、还款状态这几个变量，按用户id分组后对每个字段均值化处理"
      ]
    },
    {
      "cell_type": "code",
      "execution_count": null,
      "metadata": {
        "id": "adOUfBa5-iB7",
        "outputId": "7c1b98e1-2021-478a-fbb0-51019675fe87"
      },
      "outputs": [
        {
          "data": {
            "text/html": [
              "<div>\n",
              "<style scoped>\n",
              "    .dataframe tbody tr th:only-of-type {\n",
              "        vertical-align: middle;\n",
              "    }\n",
              "\n",
              "    .dataframe tbody tr th {\n",
              "        vertical-align: top;\n",
              "    }\n",
              "\n",
              "    .dataframe thead th {\n",
              "        text-align: right;\n",
              "    }\n",
              "</style>\n",
              "<table border=\"1\" class=\"dataframe\">\n",
              "  <thead>\n",
              "    <tr style=\"text-align: right;\">\n",
              "      <th></th>\n",
              "      <th>user_id</th>\n",
              "      <th>last_bill_amount</th>\n",
              "      <th>last_repay_amount</th>\n",
              "      <th>credit_amount</th>\n",
              "      <th>cur_bill_bal</th>\n",
              "      <th>cur_bill_minrepay</th>\n",
              "      <th>cons_num</th>\n",
              "      <th>cur_bill_amount</th>\n",
              "      <th>adjust_amount</th>\n",
              "      <th>cyclic_accr</th>\n",
              "      <th>avail_bal</th>\n",
              "      <th>borrow_cash</th>\n",
              "    </tr>\n",
              "  </thead>\n",
              "  <tbody>\n",
              "    <tr>\n",
              "      <th>0</th>\n",
              "      <td>6965</td>\n",
              "      <td>10.002659</td>\n",
              "      <td>12.733206</td>\n",
              "      <td>19.971271</td>\n",
              "      <td>19.957631</td>\n",
              "      <td>17.220095</td>\n",
              "      <td>10.750000</td>\n",
              "      <td>18.825107</td>\n",
              "      <td>0.000000</td>\n",
              "      <td>15.520681</td>\n",
              "      <td>0.0</td>\n",
              "      <td>19.624697</td>\n",
              "    </tr>\n",
              "    <tr>\n",
              "      <th>1</th>\n",
              "      <td>1265</td>\n",
              "      <td>17.715686</td>\n",
              "      <td>14.191595</td>\n",
              "      <td>19.973385</td>\n",
              "      <td>19.909123</td>\n",
              "      <td>17.866453</td>\n",
              "      <td>1.444444</td>\n",
              "      <td>19.007284</td>\n",
              "      <td>0.000000</td>\n",
              "      <td>5.175483</td>\n",
              "      <td>0.0</td>\n",
              "      <td>9.702118</td>\n",
              "    </tr>\n",
              "    <tr>\n",
              "      <th>2</th>\n",
              "      <td>2583</td>\n",
              "      <td>15.192264</td>\n",
              "      <td>15.265601</td>\n",
              "      <td>18.307126</td>\n",
              "      <td>17.736937</td>\n",
              "      <td>10.292788</td>\n",
              "      <td>1.791667</td>\n",
              "      <td>17.199134</td>\n",
              "      <td>0.000000</td>\n",
              "      <td>6.478271</td>\n",
              "      <td>0.0</td>\n",
              "      <td>11.014650</td>\n",
              "    </tr>\n",
              "    <tr>\n",
              "      <th>3</th>\n",
              "      <td>29165</td>\n",
              "      <td>-6.973236</td>\n",
              "      <td>12.852082</td>\n",
              "      <td>19.740221</td>\n",
              "      <td>17.921520</td>\n",
              "      <td>15.902257</td>\n",
              "      <td>0.000000</td>\n",
              "      <td>12.969975</td>\n",
              "      <td>0.000000</td>\n",
              "      <td>0.000000</td>\n",
              "      <td>0.0</td>\n",
              "      <td>6.001719</td>\n",
              "    </tr>\n",
              "    <tr>\n",
              "      <th>4</th>\n",
              "      <td>2443</td>\n",
              "      <td>16.759482</td>\n",
              "      <td>4.151986</td>\n",
              "      <td>17.309158</td>\n",
              "      <td>19.397134</td>\n",
              "      <td>18.206423</td>\n",
              "      <td>2.251572</td>\n",
              "      <td>15.892834</td>\n",
              "      <td>0.229931</td>\n",
              "      <td>4.082358</td>\n",
              "      <td>0.0</td>\n",
              "      <td>10.873986</td>\n",
              "    </tr>\n",
              "  </tbody>\n",
              "</table>\n",
              "</div>"
            ],
            "text/plain": [
              "   user_id  last_bill_amount  last_repay_amount  credit_amount  cur_bill_bal  \\\n",
              "0     6965         10.002659          12.733206      19.971271     19.957631   \n",
              "1     1265         17.715686          14.191595      19.973385     19.909123   \n",
              "2     2583         15.192264          15.265601      18.307126     17.736937   \n",
              "3    29165         -6.973236          12.852082      19.740221     17.921520   \n",
              "4     2443         16.759482           4.151986      17.309158     19.397134   \n",
              "\n",
              "   cur_bill_minrepay   cons_num  cur_bill_amount  adjust_amount  cyclic_accr  \\\n",
              "0          17.220095  10.750000        18.825107       0.000000    15.520681   \n",
              "1          17.866453   1.444444        19.007284       0.000000     5.175483   \n",
              "2          10.292788   1.791667        17.199134       0.000000     6.478271   \n",
              "3          15.902257   0.000000        12.969975       0.000000     0.000000   \n",
              "4          18.206423   2.251572        15.892834       0.229931     4.082358   \n",
              "\n",
              "   avail_bal  borrow_cash  \n",
              "0        0.0    19.624697  \n",
              "1        0.0     9.702118  \n",
              "2        0.0    11.014650  \n",
              "3        0.0     6.001719  \n",
              "4        0.0    10.873986  "
            ]
          },
          "execution_count": 20,
          "metadata": {},
          "output_type": "execute_result"
        }
      ],
      "source": [
        "bill_select = pd.merge(left=df_bill_train,right = user2,how='inner',on='user_id')\n",
        "bill_select.drop(['time','bank_id','repay_status'], axis=1, inplace=True)\n",
        "e1=bill_select.groupby(['user_id'], as_index=False)\n",
        "f1= e1['last_bill_amount','last_repay_amount','credit_amount','cur_bill_bal','cur_bill_minrepay','cons_num','cur_bill_amount','adjust_amount','cyclic_accr','avail_bal','borrow_cash'].agg(np.mean)\n",
        "bill_train = pd.merge(left=user2,right =f1,how = 'left',on='user_id')\n",
        "bill_train.head()"
      ]
    },
    {
      "cell_type": "markdown",
      "metadata": {
        "id": "4JJ1DWFH-iB7"
      },
      "source": [
        "(3)浏览记录表\n",
        "去掉浏览子行为这个变量，对浏览行为数据变量作了按用户id做分组计数统计。"
      ]
    },
    {
      "cell_type": "code",
      "execution_count": null,
      "metadata": {
        "id": "eBuLXtGa-iB7",
        "outputId": "31fa03ad-b4f4-4fbb-c909-0c57e0a719e9"
      },
      "outputs": [
        {
          "data": {
            "text/html": [
              "<div>\n",
              "<style scoped>\n",
              "    .dataframe tbody tr th:only-of-type {\n",
              "        vertical-align: middle;\n",
              "    }\n",
              "\n",
              "    .dataframe tbody tr th {\n",
              "        vertical-align: top;\n",
              "    }\n",
              "\n",
              "    .dataframe thead th {\n",
              "        text-align: right;\n",
              "    }\n",
              "</style>\n",
              "<table border=\"1\" class=\"dataframe\">\n",
              "  <thead>\n",
              "    <tr style=\"text-align: right;\">\n",
              "      <th></th>\n",
              "      <th>user_id</th>\n",
              "      <th>brows_beh</th>\n",
              "    </tr>\n",
              "  </thead>\n",
              "  <tbody>\n",
              "    <tr>\n",
              "      <th>0</th>\n",
              "      <td>6965</td>\n",
              "      <td>1710</td>\n",
              "    </tr>\n",
              "    <tr>\n",
              "      <th>1</th>\n",
              "      <td>1265</td>\n",
              "      <td>420</td>\n",
              "    </tr>\n",
              "    <tr>\n",
              "      <th>2</th>\n",
              "      <td>2583</td>\n",
              "      <td>702</td>\n",
              "    </tr>\n",
              "    <tr>\n",
              "      <th>3</th>\n",
              "      <td>29165</td>\n",
              "      <td>783</td>\n",
              "    </tr>\n",
              "    <tr>\n",
              "      <th>4</th>\n",
              "      <td>2443</td>\n",
              "      <td>671</td>\n",
              "    </tr>\n",
              "  </tbody>\n",
              "</table>\n",
              "</div>"
            ],
            "text/plain": [
              "   user_id  brows_beh\n",
              "0     6965       1710\n",
              "1     1265        420\n",
              "2     2583        702\n",
              "3    29165        783\n",
              "4     2443        671"
            ]
          },
          "execution_count": 21,
          "metadata": {},
          "output_type": "execute_result"
        }
      ],
      "source": [
        "browse_select = pd.merge(left=df_browse_train,right = user2,how='inner',on='user_id')\n",
        "g1= browse_select.groupby(['user_id'], as_index=False)\n",
        "h1= g1['brows_beh'].agg({'brows_beh': 'count', })\n",
        "browse_train = pd.merge(left=user2,right =h1,how = 'left',on='user_id')\n",
        "browse_train.head()"
      ]
    },
    {
      "cell_type": "markdown",
      "metadata": {
        "id": "5dBGewCY-iB7"
      },
      "source": [
        "对剩下的用户信息表和逾期记录表筛选"
      ]
    },
    {
      "cell_type": "code",
      "execution_count": null,
      "metadata": {
        "id": "3CTlUHNd-iB7"
      },
      "outputs": [],
      "source": [
        "overdue_train = pd.merge(left=df_overdue_train,right = user2,how='inner',on='user_id')\n",
        "user_train = pd.merge(left=df_user_train,right = user2,how='inner',on='user_id')"
      ]
    },
    {
      "cell_type": "markdown",
      "metadata": {
        "id": "TVIgQX6B-iB7"
      },
      "source": [
        "将筛选后的五个表进行合并"
      ]
    },
    {
      "cell_type": "code",
      "execution_count": null,
      "metadata": {
        "id": "X_sgq4jg-iB8",
        "outputId": "b28452f6-681e-43ab-b440-abdbd02f9baa"
      },
      "outputs": [
        {
          "data": {
            "text/html": [
              "<div>\n",
              "<style scoped>\n",
              "    .dataframe tbody tr th:only-of-type {\n",
              "        vertical-align: middle;\n",
              "    }\n",
              "\n",
              "    .dataframe tbody tr th {\n",
              "        vertical-align: top;\n",
              "    }\n",
              "\n",
              "    .dataframe thead th {\n",
              "        text-align: right;\n",
              "    }\n",
              "</style>\n",
              "<table border=\"1\" class=\"dataframe\">\n",
              "  <thead>\n",
              "    <tr style=\"text-align: right;\">\n",
              "      <th></th>\n",
              "      <th>user_id</th>\n",
              "      <th>sex</th>\n",
              "      <th>job</th>\n",
              "      <th>eduction</th>\n",
              "      <th>marriage</th>\n",
              "      <th>residence</th>\n",
              "      <th>income_num</th>\n",
              "      <th>income_amount</th>\n",
              "      <th>expen_num</th>\n",
              "      <th>expen_amount</th>\n",
              "      <th>...</th>\n",
              "      <th>cur_bill_bal</th>\n",
              "      <th>cur_bill_minrepay</th>\n",
              "      <th>cons_num</th>\n",
              "      <th>cur_bill_amount</th>\n",
              "      <th>adjust_amount</th>\n",
              "      <th>cyclic_accr</th>\n",
              "      <th>avail_bal</th>\n",
              "      <th>borrow_cash</th>\n",
              "      <th>brows_beh</th>\n",
              "      <th>overdue</th>\n",
              "    </tr>\n",
              "  </thead>\n",
              "  <tbody>\n",
              "    <tr>\n",
              "      <th>0</th>\n",
              "      <td>6965</td>\n",
              "      <td>1</td>\n",
              "      <td>2</td>\n",
              "      <td>4</td>\n",
              "      <td>3</td>\n",
              "      <td>2</td>\n",
              "      <td>75.0</td>\n",
              "      <td>972.850228</td>\n",
              "      <td>289.0</td>\n",
              "      <td>3234.531975</td>\n",
              "      <td>...</td>\n",
              "      <td>19.957631</td>\n",
              "      <td>17.220095</td>\n",
              "      <td>10.750000</td>\n",
              "      <td>18.825107</td>\n",
              "      <td>0.000000</td>\n",
              "      <td>15.520681</td>\n",
              "      <td>0.0</td>\n",
              "      <td>19.624697</td>\n",
              "      <td>1710</td>\n",
              "      <td>0</td>\n",
              "    </tr>\n",
              "    <tr>\n",
              "      <th>1</th>\n",
              "      <td>1265</td>\n",
              "      <td>1</td>\n",
              "      <td>3</td>\n",
              "      <td>4</td>\n",
              "      <td>3</td>\n",
              "      <td>1</td>\n",
              "      <td>125.0</td>\n",
              "      <td>1708.206195</td>\n",
              "      <td>294.0</td>\n",
              "      <td>3662.457063</td>\n",
              "      <td>...</td>\n",
              "      <td>19.909123</td>\n",
              "      <td>17.866453</td>\n",
              "      <td>1.444444</td>\n",
              "      <td>19.007284</td>\n",
              "      <td>0.000000</td>\n",
              "      <td>5.175483</td>\n",
              "      <td>0.0</td>\n",
              "      <td>9.702118</td>\n",
              "      <td>420</td>\n",
              "      <td>0</td>\n",
              "    </tr>\n",
              "    <tr>\n",
              "      <th>2</th>\n",
              "      <td>2583</td>\n",
              "      <td>2</td>\n",
              "      <td>2</td>\n",
              "      <td>2</td>\n",
              "      <td>1</td>\n",
              "      <td>1</td>\n",
              "      <td>213.0</td>\n",
              "      <td>2736.475318</td>\n",
              "      <td>618.0</td>\n",
              "      <td>7064.310678</td>\n",
              "      <td>...</td>\n",
              "      <td>17.736937</td>\n",
              "      <td>10.292788</td>\n",
              "      <td>1.791667</td>\n",
              "      <td>17.199134</td>\n",
              "      <td>0.000000</td>\n",
              "      <td>6.478271</td>\n",
              "      <td>0.0</td>\n",
              "      <td>11.014650</td>\n",
              "      <td>702</td>\n",
              "      <td>0</td>\n",
              "    </tr>\n",
              "    <tr>\n",
              "      <th>3</th>\n",
              "      <td>29165</td>\n",
              "      <td>1</td>\n",
              "      <td>2</td>\n",
              "      <td>4</td>\n",
              "      <td>1</td>\n",
              "      <td>4</td>\n",
              "      <td>189.0</td>\n",
              "      <td>2277.607807</td>\n",
              "      <td>473.0</td>\n",
              "      <td>5099.861165</td>\n",
              "      <td>...</td>\n",
              "      <td>17.921520</td>\n",
              "      <td>15.902257</td>\n",
              "      <td>0.000000</td>\n",
              "      <td>12.969975</td>\n",
              "      <td>0.000000</td>\n",
              "      <td>0.000000</td>\n",
              "      <td>0.0</td>\n",
              "      <td>6.001719</td>\n",
              "      <td>783</td>\n",
              "      <td>0</td>\n",
              "    </tr>\n",
              "    <tr>\n",
              "      <th>4</th>\n",
              "      <td>2443</td>\n",
              "      <td>1</td>\n",
              "      <td>4</td>\n",
              "      <td>4</td>\n",
              "      <td>3</td>\n",
              "      <td>1</td>\n",
              "      <td>252.0</td>\n",
              "      <td>3020.288782</td>\n",
              "      <td>341.0</td>\n",
              "      <td>3762.790364</td>\n",
              "      <td>...</td>\n",
              "      <td>19.397134</td>\n",
              "      <td>18.206423</td>\n",
              "      <td>2.251572</td>\n",
              "      <td>15.892834</td>\n",
              "      <td>0.229931</td>\n",
              "      <td>4.082358</td>\n",
              "      <td>0.0</td>\n",
              "      <td>10.873986</td>\n",
              "      <td>671</td>\n",
              "      <td>0</td>\n",
              "    </tr>\n",
              "  </tbody>\n",
              "</table>\n",
              "<p>5 rows × 25 columns</p>\n",
              "</div>"
            ],
            "text/plain": [
              "   user_id  sex  job  eduction  marriage  residence  income_num  \\\n",
              "0     6965    1    2         4         3          2        75.0   \n",
              "1     1265    1    3         4         3          1       125.0   \n",
              "2     2583    2    2         2         1          1       213.0   \n",
              "3    29165    1    2         4         1          4       189.0   \n",
              "4     2443    1    4         4         3          1       252.0   \n",
              "\n",
              "   income_amount  expen_num  expen_amount  ...  cur_bill_bal  \\\n",
              "0     972.850228      289.0   3234.531975  ...     19.957631   \n",
              "1    1708.206195      294.0   3662.457063  ...     19.909123   \n",
              "2    2736.475318      618.0   7064.310678  ...     17.736937   \n",
              "3    2277.607807      473.0   5099.861165  ...     17.921520   \n",
              "4    3020.288782      341.0   3762.790364  ...     19.397134   \n",
              "\n",
              "   cur_bill_minrepay   cons_num  cur_bill_amount  adjust_amount  cyclic_accr  \\\n",
              "0          17.220095  10.750000        18.825107       0.000000    15.520681   \n",
              "1          17.866453   1.444444        19.007284       0.000000     5.175483   \n",
              "2          10.292788   1.791667        17.199134       0.000000     6.478271   \n",
              "3          15.902257   0.000000        12.969975       0.000000     0.000000   \n",
              "4          18.206423   2.251572        15.892834       0.229931     4.082358   \n",
              "\n",
              "   avail_bal  borrow_cash  brows_beh  overdue  \n",
              "0        0.0    19.624697       1710        0  \n",
              "1        0.0     9.702118        420        0  \n",
              "2        0.0    11.014650        702        0  \n",
              "3        0.0     6.001719        783        0  \n",
              "4        0.0    10.873986        671        0  \n",
              "\n",
              "[5 rows x 25 columns]"
            ]
          },
          "execution_count": 23,
          "metadata": {},
          "output_type": "execute_result"
        }
      ],
      "source": [
        "df_train = user_train.merge(bank_train)\n",
        "df_train = df_train.merge(bill_train)\n",
        "df_train = df_train.merge(browse_train)\n",
        "df_train = df_train.merge(overdue_train)\n",
        "df_train.head()"
      ]
    },
    {
      "cell_type": "code",
      "execution_count": null,
      "metadata": {
        "id": "lRgp-SRV-iB8",
        "outputId": "0889b7ee-d696-449c-9c92-03ca982d2b25"
      },
      "outputs": [
        {
          "name": "stdout",
          "output_type": "stream",
          "text": [
            "<class 'pandas.core.frame.DataFrame'>\n",
            "Int64Index: 5735 entries, 0 to 5734\n",
            "Data columns (total 25 columns):\n",
            "user_id              5735 non-null int64\n",
            "sex                  5735 non-null int64\n",
            "job                  5735 non-null int64\n",
            "eduction             5735 non-null int64\n",
            "marriage             5735 non-null int64\n",
            "residence            5735 non-null int64\n",
            "income_num           5735 non-null float64\n",
            "income_amount        5735 non-null float64\n",
            "expen_num            5735 non-null float64\n",
            "expen_amount         5735 non-null float64\n",
            "wages_num            5735 non-null float64\n",
            "wages_amount         5735 non-null float64\n",
            "last_bill_amount     5735 non-null float64\n",
            "last_repay_amount    5735 non-null float64\n",
            "credit_amount        5735 non-null float64\n",
            "cur_bill_bal         5735 non-null float64\n",
            "cur_bill_minrepay    5735 non-null float64\n",
            "cons_num             5735 non-null float64\n",
            "cur_bill_amount      5735 non-null float64\n",
            "adjust_amount        5735 non-null float64\n",
            "cyclic_accr          5735 non-null float64\n",
            "avail_bal            5735 non-null float64\n",
            "borrow_cash          5735 non-null float64\n",
            "brows_beh            5735 non-null int64\n",
            "overdue              5735 non-null int64\n",
            "dtypes: float64(17), int64(8)\n",
            "memory usage: 1.1 MB\n"
          ]
        }
      ],
      "source": [
        "df_train.info()"
      ]
    },
    {
      "cell_type": "markdown",
      "metadata": {
        "id": "F7vOKhPy-iB8"
      },
      "source": [
        "四、特征工程\n",
        "先看下相关性\n",
        "（1）银行流水记录特征："
      ]
    },
    {
      "cell_type": "code",
      "execution_count": null,
      "metadata": {
        "id": "l8bRpR1m-iB8",
        "outputId": "82d4854c-084e-4876-e44f-ed426d4889f8"
      },
      "outputs": [
        {
          "data": {
            "text/plain": [
              "<matplotlib.axes._subplots.AxesSubplot at 0x11d02a5d0>"
            ]
          },
          "execution_count": 25,
          "metadata": {},
          "output_type": "execute_result"
        },
        {
          "data": {
            "image/png": "[encoded data removed]",
            "text/plain": [
              "<Figure size 576x576 with 2 Axes>"
            ]
          },
          "metadata": {
            "needs_background": "light"
          },
          "output_type": "display_data"
        }
      ],
      "source": [
        "internal_chars = ['income_num','income_amount','expen_num','expen_amount','wages_num','wages_amount']\n",
        "corrmat = bank_train[internal_chars].corr()\n",
        "plt.subplots(figsize=(8,8))\n",
        "sns.heatmap(corrmat, square=True, linewidths=.5, annot=True)"
      ]
    },
    {
      "cell_type": "markdown",
      "metadata": {
        "id": "fuqjw8Se-iB8"
      },
      "source": [
        "可以看出收入/支出/工资的笔数和金额数目是线性关系，同时收入支出相关性同样较强。\n",
        "这样，我们保留支出笔数、支出金额、工资笔数、工资金额这四个特征，并且利用这四个特征重新创建两个新的特征：每笔支出平均金额expen_avg=支出金额/支出笔数，每笔工资平均收入wages_avg=工资金额/工资笔数"
      ]
    },
    {
      "cell_type": "markdown",
      "metadata": {
        "id": "KP60sg8y-iB8"
      },
      "source": [
        "（2）信用卡记录特征："
      ]
    },
    {
      "cell_type": "code",
      "execution_count": null,
      "metadata": {
        "id": "8Uctt6rg-iB8",
        "outputId": "26518ccb-143e-4922-c074-fd214f87eeab"
      },
      "outputs": [
        {
          "data": {
            "text/plain": [
              "<matplotlib.axes._subplots.AxesSubplot at 0x11d6af150>"
            ]
          },
          "execution_count": 26,
          "metadata": {},
          "output_type": "execute_result"
        },
        {
          "data": {
            "image/png": "[encoded data removed]",
            "text/plain": [
              "<Figure size 720x576 with 2 Axes>"
            ]
          },
          "metadata": {
            "needs_background": "light"
          },
          "output_type": "display_data"
        }
      ],
      "source": [
        "internal_chars = ['last_bill_amount','last_repay_amount','credit_amount','cur_bill_bal','cur_bill_minrepay'\n",
        "                  ,'cons_num','cur_bill_amount','adjust_amount','cyclic_accr','avail_bal','borrow_cash']\n",
        "corrmat = df_train[internal_chars].corr()\n",
        "f, ax = plt.subplots(figsize=(10, 8))\n",
        "plt.xticks(rotation='0')\n",
        "sns.heatmap(corrmat, square=False, linewidths=.5, annot=True)"
      ]
    },
    {
      "cell_type": "markdown",
      "metadata": {
        "id": "jP-VEFB4-iB8"
      },
      "source": [
        "可以看出上期账单金额last_bill_amount和上期还款金额last_repay_amount、本期账单余额cur_bill_bal 和本期账单最低还款额 cur_bill_minrepay、上期还款金额last_repay_amount和本期账单金额cur_bill_amount的相关性较强。"
      ]
    },
    {
      "cell_type": "markdown",
      "metadata": {
        "id": "s6n-tYpq-iB8"
      },
      "source": [
        "还款公式：\n",
        "本期应还金额 = 上期账单金额-上期还款金额 + 本期账单金额 - 本期调整金额 + 循环利息\n",
        "根据上期还款金额的多少将上式分为三种情况：\n",
        "上期还款金额 （或者没还）<上期账单的最低还款额，就视为逾期，而且本期的还款要加上循环利息和上期未还款的那部分\n",
        "上期最低还款额<上期还款金额<上期账单金额，不视为逾期，但本期的还款要加上循环利息和上期未还款的那部分\n",
        "上期还款金额 >上期账单金额，也就是说用户还多了，那么本期的还款会减去一个调整金额（多还的那部分），循环利息和上期未还的部分也就为0。\n",
        "由此也解释了上期还款金额last_repay_amount和本期账单金额cur_bill_amount的相关性较强。\n",
        "综合以上筛选下信用卡记录的特征：\n",
        "针对上期账单金额last_bill_amount和上期还款金额last_repay_amount引入一个新特征：上期还款差额 =上期账单金额 - 上期还款金额；\n",
        "信用额度，字面上感觉与还款是否逾期相关性比较大，所以先保留；\n",
        "本期的账单余额与最低还款额具有高度共线性，决定只选用最低还款额；\n",
        "消费笔数，目前来看与其他特征相关性均不高，所以先保留；\n",
        "本期账单金额，这个根据还款公式可知会影响本期应还金额，所以先保留；\n",
        "调整金额和循环利息是跟“上期的还款差额”有关的：\n",
        "还款差额>0，需要计算循环利息，调整金额不计\n",
        "还款差额<0，需要计算调整金额，循环利息不计\n",
        "所以可以将还款差额进行“特征二值化”来代替这两个特征0表示有调整金额，1表示有循环利息，引入新特征last_diff_label；\n",
        "可用余额：信用额度-未还清的已出账金额-已使用未入账的累积金额，应该跟信用额度相关性较大，但是在图中相关性与其他几个特征均存在较弱关系，所以暂时先保留；\n",
        "预借现金额度，是指持卡人使用信用卡通过ATM等自助终端提取现金的最高额度，取现额度包含于信用额度之内，一般是信用额度的50%左右，通过图中也可以看出跟信用额度等相关性较强，所以可以不用这个特征，选择信用额度即可。"
      ]
    },
    {
      "cell_type": "markdown",
      "metadata": {
        "id": "fw86P3Pr-iB8"
      },
      "source": [
        "最后，筛选剩下的信用卡记录特征还有：last_repay_diff（上期还款差额），credit_amount，cur_bill_minrepay，cur_bill_amount、cons_num、avail_bal、last_diff_label（上期差额标签）这7个特征。\n",
        "剩下用户信息和用户浏览行为的特征先保留观察。\n",
        "我们把需要分析分特征罗列出来：\n",
        "\n",
        "\n",
        "\n",
        "整理下特征："
      ]
    },
    {
      "cell_type": "code",
      "execution_count": null,
      "metadata": {
        "id": "nUn5_gCn-iB8",
        "outputId": "87cda18c-9fa6-4d14-c8d0-9cff2763c301"
      },
      "outputs": [
        {
          "name": "stderr",
          "output_type": "stream",
          "text": [
            "/Users/yihaoli/opt/anaconda3/envs/py3.7_nlp/lib/python3.7/site-packages/ipykernel_launcher.py:1: RuntimeWarning: invalid value encountered in double_scalars\n",
            "  \"\"\"Entry point for launching an IPython kernel.\n",
            "/Users/yihaoli/opt/anaconda3/envs/py3.7_nlp/lib/python3.7/site-packages/ipykernel_launcher.py:2: RuntimeWarning: invalid value encountered in double_scalars\n",
            "  \n",
            "/Users/yihaoli/opt/anaconda3/envs/py3.7_nlp/lib/python3.7/site-packages/pandas/core/indexing.py:1418: FutureWarning: \n",
            "Passing list-likes to .loc or [] with any missing label will raise\n",
            "KeyError in the future, you can use .reindex() as an alternative.\n",
            "\n",
            "See the documentation here:\n",
            "https://pandas.pydata.org/pandas-docs/stable/user_guide/indexing.html#deprecate-loc-reindex-listlike\n",
            "  return self._getitem_tuple(key)\n"
          ]
        }
      ],
      "source": [
        "df_train['expen_avg'] = df_train.apply(lambda x:x.expen_amount/x.expen_num,axis=1)\n",
        "df_train['wages_avg'] = df_train.apply(lambda x:x.wages_amount/x.wages_num,axis=1)\n",
        "df_train['last_repay_diff'] = df_train.apply(lambda x:x.last_bill_amount - x.last_repay_amount,axis=1)\n",
        "df_select = df_train.loc[:,['user_id','sex','job','education','marriage','residence','expen_avg','wages_avg','last_repay_diff',\n",
        "                            'credit_amount','cur_bill_amount','cur_bill_minrepay','cons_num','avail_bal','brows_beh','overdue']].fillna(0)"
      ]
    },
    {
      "cell_type": "markdown",
      "metadata": {
        "id": "fdduGP1O-iB9"
      },
      "source": [
        "在添加新特征上期差额标记"
      ]
    },
    {
      "cell_type": "code",
      "execution_count": null,
      "metadata": {
        "id": "5XbEysXW-iB9",
        "outputId": "d77392a2-d6b6-4c1d-9e16-efab98a04a2e"
      },
      "outputs": [
        {
          "name": "stdout",
          "output_type": "stream",
          "text": [
            "<class 'pandas.core.frame.DataFrame'>\n",
            "Int64Index: 5735 entries, 0 to 5734\n",
            "Data columns (total 17 columns):\n",
            "user_id              5735 non-null int64\n",
            "sex                  5735 non-null int64\n",
            "job                  5735 non-null int64\n",
            "education            5735 non-null float64\n",
            "marriage             5735 non-null int64\n",
            "residence            5735 non-null int64\n",
            "expen_avg            5735 non-null float64\n",
            "wages_avg            5735 non-null float64\n",
            "last_repay_diff      5735 non-null float64\n",
            "credit_amount        5735 non-null float64\n",
            "cur_bill_amount      5735 non-null float64\n",
            "cur_bill_minrepay    5735 non-null float64\n",
            "cons_num             5735 non-null float64\n",
            "avail_bal            5735 non-null float64\n",
            "brows_beh            5735 non-null int64\n",
            "overdue              5735 non-null int64\n",
            "last_diff_label      5735 non-null int64\n",
            "dtypes: float64(9), int64(8)\n",
            "memory usage: 806.5 KB\n"
          ]
        }
      ],
      "source": [
        "df_select['last_diff_label'] = df_select.apply(lambda x: 0 if x.last_repay_diff < 0 else 1,axis=1)\n",
        "df_select.info()"
      ]
    },
    {
      "cell_type": "markdown",
      "metadata": {
        "id": "Gibl6q4X-iB9"
      },
      "source": [
        "其中，用户属性的几个特征和上期差额标记为分类数据，其他9个位连续型数值变量。\n",
        "这里用Filter法和Wrapper法对特征进行过滤，分别选取性能最好的5个特征进行交叉检验，再综合判断使用哪个模型。"
      ]
    },
    {
      "cell_type": "markdown",
      "metadata": {
        "id": "xVS3Sekt-iB9"
      },
      "source": [
        "先使用Filter法的方差分析筛选："
      ]
    },
    {
      "cell_type": "code",
      "execution_count": null,
      "metadata": {
        "id": "g5FizYwE-iB9",
        "outputId": "4a9190a4-d52b-493a-b1d1-c23a42ca8acf"
      },
      "outputs": [
        {
          "name": "stdout",
          "output_type": "stream",
          "text": [
            "[41.77496114 10.17756327         nan  0.16224663  2.02405169 75.71311271\n",
            " 27.56853334  3.15568118  4.55485884  3.06857082 10.68218145  2.37893618\n",
            "  0.16926424  4.2087233   6.86318892] \n",
            " [ True  True False False False  True  True False False False  True False\n",
            " False False False]\n"
          ]
        },
        {
          "name": "stderr",
          "output_type": "stream",
          "text": [
            "/Users/yihaoli/opt/anaconda3/envs/py3.7_nlp/lib/python3.7/site-packages/sklearn/utils/validation.py:760: DataConversionWarning: A column-vector y was passed when a 1d array was expected. Please change the shape of y to (n_samples, ), for example using ravel().\n",
            "  y = column_or_1d(y, warn=True)\n",
            "/Users/yihaoli/opt/anaconda3/envs/py3.7_nlp/lib/python3.7/site-packages/sklearn/feature_selection/_univariate_selection.py:114: UserWarning: Features [2] are constant.\n",
            "  UserWarning)\n",
            "/Users/yihaoli/opt/anaconda3/envs/py3.7_nlp/lib/python3.7/site-packages/sklearn/feature_selection/_univariate_selection.py:115: RuntimeWarning: invalid value encountered in true_divide\n",
            "  f = msb / msw\n"
          ]
        }
      ],
      "source": [
        "x = df_select.drop(['user_id','overdue'],axis=1)\n",
        "x = np.array(x)\n",
        "y = df_select[['overdue']]\n",
        "y = np.array(y)\n",
        "\n",
        "from sklearn.feature_selection import SelectKBest, f_classif\n",
        "selector = SelectKBest(f_classif, k=5)\n",
        "a=selector.fit(x,y)\n",
        "print(np.array(a.scores_),'\\n',a.get_support())"
      ]
    },
    {
      "cell_type": "markdown",
      "metadata": {
        "id": "pUjPPAWl-iB9"
      },
      "source": [
        "筛选的结果为：'sex' ,'job', 'expen_avg', 'wages_avg', 'cur_bill_minrepay'为5个F值（组间方差/组内方差）最大的变量。"
      ]
    },
    {
      "cell_type": "markdown",
      "metadata": {
        "id": "mfKpWp7--iB9"
      },
      "source": [
        "Wrapper法：\n",
        "这里使用递归消除特征法，使用一个基模型来进行多轮训练，每轮训练后，消除若干权值系数的特征，\n",
        "再基于新的特征集进行下一轮训练。使用feature_selection库的RFE类来选择特征"
      ]
    },
    {
      "cell_type": "code",
      "execution_count": null,
      "metadata": {
        "id": "zMqHGdlM-iB9",
        "outputId": "2465afa9-575f-40aa-8c1d-a7c4f2eca61f"
      },
      "outputs": [
        {
          "name": "stderr",
          "output_type": "stream",
          "text": [
            "/Users/yihaoli/opt/anaconda3/envs/py3.7_nlp/lib/python3.7/site-packages/sklearn/utils/validation.py:760: DataConversionWarning: A column-vector y was passed when a 1d array was expected. Please change the shape of y to (n_samples, ), for example using ravel().\n",
            "  y = column_or_1d(y, warn=True)\n"
          ]
        },
        {
          "name": "stdout",
          "output_type": "stream",
          "text": [
            "[False False False False False  True False  True  True False  True False\n",
            " False  True False]\n",
            "[ 7  9 11  8  6  1  4  1  1  2  1  3  5  1 10]\n"
          ]
        }
      ],
      "source": [
        "from sklearn.tree import DecisionTreeClassifier\n",
        "from sklearn.feature_selection import RFE\n",
        "model1 = DecisionTreeClassifier()\n",
        "rfe = RFE(model1,5)\n",
        "rfe = rfe.fit(x,y)\n",
        "print(rfe.support_)\n",
        "print(rfe.ranking_)"
      ]
    },
    {
      "cell_type": "markdown",
      "metadata": {
        "id": "9W6NOzZW-iB9"
      },
      "source": [
        "筛选的结果为：\n",
        "'expen_avg', 'last_repay_diff', 'credit_amount', 'cur_bill_minrepay', 'brows_beh'"
      ]
    },
    {
      "cell_type": "markdown",
      "metadata": {
        "id": "N3Oyrk47-iB9"
      },
      "source": [
        "可以看出两个方法，除了特征expen_avg、cur_bill_minrepay，其他选择的特征都不同，且Wrapper法选择的都是连续型变量。"
      ]
    },
    {
      "cell_type": "markdown",
      "metadata": {
        "id": "wrZKD0kd-iB9"
      },
      "source": [
        "交叉验证："
      ]
    },
    {
      "cell_type": "code",
      "execution_count": null,
      "metadata": {
        "id": "mpJgGQo1-iB-",
        "outputId": "c0791a7f-ae7c-42a3-bf8b-921788b7cb6d"
      },
      "outputs": [
        {
          "name": "stdout",
          "output_type": "stream",
          "text": [
            "0.24062772449869224\n"
          ]
        }
      ],
      "source": [
        "from sklearn.model_selection import cross_val_score\n",
        "x_test1 = df_select[['sex','job','expen_avg','wages_avg','cur_bill_minrepay']]\n",
        "x_test1 = np.array(x_test1)\n",
        "y_test1 = df_select[['overdue']]\n",
        "y_test1 = np.array(y_test1)\n",
        "m1 = DecisionTreeClassifier()\n",
        "m1.fit(x_test1,y_test1)\n",
        "scores = -cross_val_score(m1, x_test1, y_test1, cv=5, scoring= 'neg_mean_absolute_error')\n",
        "print(np.mean(scores))"
      ]
    },
    {
      "cell_type": "markdown",
      "metadata": {
        "id": "ivGfZ8QP-iB-"
      },
      "source": [
        "filter法结果为：0.23976097225177595"
      ]
    },
    {
      "cell_type": "code",
      "execution_count": null,
      "metadata": {
        "id": "P1lemUdY-iB-",
        "outputId": "ef6b23dd-b272-42a2-cd38-31737732d82e"
      },
      "outputs": [
        {
          "name": "stdout",
          "output_type": "stream",
          "text": [
            "0.24568439407149084\n"
          ]
        }
      ],
      "source": [
        "from sklearn.model_selection import cross_val_score\n",
        "x_test2 = df_select[['expen_avg','last_repay_diff','credit_amount','cur_bill_minrepay','brows_beh']]\n",
        "x_test2 = np.array(x_test2)\n",
        "y_test2 = df_select[['overdue']]\n",
        "y_test2 = np.array(y_test2)\n",
        "m2 = DecisionTreeClassifier()\n",
        "m2.fit(x_test2,y_test2)\n",
        "scores = -cross_val_score(m2, x_test2, y_test2, cv=5, scoring= 'neg_mean_absolute_error')\n",
        "print(np.mean(scores))"
      ]
    },
    {
      "cell_type": "markdown",
      "metadata": {
        "id": "tDSOvZRp-iB-"
      },
      "source": [
        "Wrapper法结果为：0.24132633413428106\n",
        "交叉检验的结果表明还是用Filter法好一点，接下来就是建模了，既然筛选的5个特征既有分类型，又有连续型，用决策树是最合适了。"
      ]
    },
    {
      "cell_type": "markdown",
      "metadata": {
        "id": "-atBf8VO-iB-"
      },
      "source": [
        "模型建立\n",
        "拆分训练集和测试集数据：比例为4:1"
      ]
    },
    {
      "cell_type": "code",
      "execution_count": null,
      "metadata": {
        "id": "eZ45THwa-iB-"
      },
      "outputs": [],
      "source": [
        "from sklearn.model_selection import train_test_split\n",
        "x_train, x_test, y_train, y_test = train_test_split(x, y, test_size = 0.2, random_state = 0)"
      ]
    },
    {
      "cell_type": "markdown",
      "metadata": {
        "id": "gOELhbCo-iB-"
      },
      "source": [
        "1.决策树\n",
        "设定决策树参数，进行建模\n",
        "这里采用的是决策树里的CART法，之所以不用ID3和C4.5，是因为这两个方法不能处理连续型数据，必须转换成离散型。"
      ]
    },
    {
      "cell_type": "code",
      "execution_count": null,
      "metadata": {
        "id": "umCcmhe5-iB-",
        "outputId": "ed949446-bf1a-4c66-b2e3-1786ce8f12c7"
      },
      "outputs": [
        {
          "data": {
            "text/plain": [
              "array([[0],\n",
              "       [0],\n",
              "       [0],\n",
              "       ...,\n",
              "       [0],\n",
              "       [0],\n",
              "       [0]])"
            ]
          },
          "execution_count": 34,
          "metadata": {},
          "output_type": "execute_result"
        }
      ],
      "source": [
        "from sklearn import tree\n",
        "clf = tree.DecisionTreeClassifier(criterion='gini',\n",
        "                                    splitter='best',\n",
        "                                    max_depth=3,\n",
        "                                    min_samples_split=10,\n",
        "                                    min_samples_leaf=5\n",
        "                                    )\n",
        "clf = clf.fit(x_train,y_train)\n",
        "\n",
        "y_pred = clf.predict(x_test)\n",
        "y_pred = y_pred[:, np.newaxis]\n",
        "y_pred"
      ]
    },
    {
      "cell_type": "markdown",
      "metadata": {
        "id": "Y17RRe0u-iB-"
      },
      "source": [
        "模型结果评价"
      ]
    },
    {
      "cell_type": "code",
      "execution_count": null,
      "metadata": {
        "id": "gTJLXnAH-iB-",
        "outputId": "e0a479dd-55eb-45f1-9286-714c16177f3b"
      },
      "outputs": [
        {
          "name": "stdout",
          "output_type": "stream",
          "text": [
            "              precision    recall  f1-score   support\n",
            "\n",
            "           0       0.87      0.99      0.92       986\n",
            "           1       0.45      0.06      0.11       161\n",
            "\n",
            "    accuracy                           0.86      1147\n",
            "   macro avg       0.66      0.52      0.52      1147\n",
            "weighted avg       0.81      0.86      0.81      1147\n",
            "\n",
            "The accuracy of DecisionTree Classifier is 0.8578901482127289\n"
          ]
        }
      ],
      "source": [
        "from sklearn.metrics import classification_report\n",
        "print(classification_report(y_test, y_pred))\n",
        "print('The accuracy of DecisionTree Classifier is',clf.score(x_test,y_test))"
      ]
    },
    {
      "cell_type": "markdown",
      "metadata": {
        "id": "b5NriUTK-iB-"
      },
      "source": [
        "精确率0.82，召回率0.86，f1_score为0.81\n",
        "这里把特征变量缩减一些，改成Filter法得到的那5个变量"
      ]
    },
    {
      "cell_type": "code",
      "execution_count": null,
      "metadata": {
        "id": "j1-0saxr-iB_",
        "outputId": "05527c71-2c13-421d-8784-2368d949203e"
      },
      "outputs": [
        {
          "name": "stdout",
          "output_type": "stream",
          "text": [
            "              precision    recall  f1-score   support\n",
            "\n",
            "           0       0.87      1.00      0.93       986\n",
            "           1       0.67      0.05      0.09       161\n",
            "\n",
            "    accuracy                           0.86      1147\n",
            "   macro avg       0.77      0.52      0.51      1147\n",
            "weighted avg       0.84      0.86      0.81      1147\n",
            "\n",
            "The accuracy of DecisionTree Classifier is 0.8631211857018308\n"
          ]
        }
      ],
      "source": [
        "from sklearn.model_selection import train_test_split\n",
        "x_train, x_test, y_train, y_test = train_test_split(x_test1, y, test_size = 0.2, random_state = 0)\n",
        "from sklearn import tree\n",
        "clf = tree.DecisionTreeClassifier(criterion='gini',\n",
        "                                    splitter='best',\n",
        "                                    max_depth=3,\n",
        "                                    min_samples_split=10,\n",
        "                                    min_samples_leaf=5\n",
        "                                    )\n",
        "clf = clf.fit(x_train,y_train)\n",
        "\n",
        "y_pred = clf.predict(x_test)\n",
        "y_pred = y_pred[:, np.newaxis]\n",
        "from sklearn.metrics import classification_report\n",
        "print(classification_report(y_test, y_pred))\n",
        "print('The accuracy of DecisionTree Classifier is',clf.score(x_test,y_test))"
      ]
    },
    {
      "cell_type": "markdown",
      "metadata": {
        "id": "wjzSPJ55-iB_"
      },
      "source": [
        "精确率0.84，召回率0.86，f1_score为0.81，这样的话精确度有提高。"
      ]
    },
    {
      "cell_type": "markdown",
      "metadata": {
        "id": "bO7jHKz2-iB_"
      },
      "source": [
        "2.KNN算法"
      ]
    },
    {
      "cell_type": "code",
      "execution_count": null,
      "metadata": {
        "id": "0U5fdsss-iB_",
        "outputId": "81faf73e-7a53-4610-fd60-3847155fb838"
      },
      "outputs": [
        {
          "name": "stdout",
          "output_type": "stream",
          "text": [
            "acc:[0.85963383 0.85963383 0.85963383 ... 0.85963383 0.85963383 0.85963383] 0.8378378378378378\n"
          ]
        },
        {
          "name": "stderr",
          "output_type": "stream",
          "text": [
            "/Users/yihaoli/opt/anaconda3/envs/py3.7_nlp/lib/python3.7/site-packages/ipykernel_launcher.py:5: DataConversionWarning: A column-vector y was passed when a 1d array was expected. Please change the shape of y to (n_samples, ), for example using ravel().\n",
            "  \"\"\"\n"
          ]
        }
      ],
      "source": [
        "from sklearn.model_selection import train_test_split\n",
        "x_train, x_test, y_train, y_test = train_test_split(x, y, test_size = 0.2, random_state = 0)\n",
        "from sklearn.neighbors import KNeighborsClassifier\n",
        "knn = KNeighborsClassifier(n_neighbors=3)\n",
        "knn.fit(x_train,y_train)\n",
        "y_predict=knn.predict(x_test)\n",
        "scores=knn.score(x_test,y_test)\n",
        "print('acc:{}'.format(sum(y_predict==y_test)/len(x_test)),scores)"
      ]
    },
    {
      "cell_type": "markdown",
      "metadata": {
        "id": "ILSetkuQ-iB_"
      },
      "source": [
        "寻找n_neighbors 最佳参数"
      ]
    },
    {
      "cell_type": "code",
      "execution_count": null,
      "metadata": {
        "id": "TNBWFcIZ-iB_",
        "outputId": "45d5034d-e7d2-436d-f291-5b4c8ff8994a"
      },
      "outputs": [
        {
          "name": "stderr",
          "output_type": "stream",
          "text": [
            "/Users/yihaoli/opt/anaconda3/envs/py3.7_nlp/lib/python3.7/site-packages/ipykernel_launcher.py:8: DataConversionWarning: A column-vector y was passed when a 1d array was expected. Please change the shape of y to (n_samples, ), for example using ravel().\n",
            "  \n",
            "/Users/yihaoli/opt/anaconda3/envs/py3.7_nlp/lib/python3.7/site-packages/ipykernel_launcher.py:8: DataConversionWarning: A column-vector y was passed when a 1d array was expected. Please change the shape of y to (n_samples, ), for example using ravel().\n",
            "  \n",
            "/Users/yihaoli/opt/anaconda3/envs/py3.7_nlp/lib/python3.7/site-packages/ipykernel_launcher.py:8: DataConversionWarning: A column-vector y was passed when a 1d array was expected. Please change the shape of y to (n_samples, ), for example using ravel().\n",
            "  \n",
            "/Users/yihaoli/opt/anaconda3/envs/py3.7_nlp/lib/python3.7/site-packages/ipykernel_launcher.py:8: DataConversionWarning: A column-vector y was passed when a 1d array was expected. Please change the shape of y to (n_samples, ), for example using ravel().\n",
            "  \n",
            "/Users/yihaoli/opt/anaconda3/envs/py3.7_nlp/lib/python3.7/site-packages/ipykernel_launcher.py:8: DataConversionWarning: A column-vector y was passed when a 1d array was expected. Please change the shape of y to (n_samples, ), for example using ravel().\n",
            "  \n",
            "/Users/yihaoli/opt/anaconda3/envs/py3.7_nlp/lib/python3.7/site-packages/ipykernel_launcher.py:8: DataConversionWarning: A column-vector y was passed when a 1d array was expected. Please change the shape of y to (n_samples, ), for example using ravel().\n",
            "  \n",
            "/Users/yihaoli/opt/anaconda3/envs/py3.7_nlp/lib/python3.7/site-packages/ipykernel_launcher.py:8: DataConversionWarning: A column-vector y was passed when a 1d array was expected. Please change the shape of y to (n_samples, ), for example using ravel().\n",
            "  \n",
            "/Users/yihaoli/opt/anaconda3/envs/py3.7_nlp/lib/python3.7/site-packages/ipykernel_launcher.py:8: DataConversionWarning: A column-vector y was passed when a 1d array was expected. Please change the shape of y to (n_samples, ), for example using ravel().\n",
            "  \n",
            "/Users/yihaoli/opt/anaconda3/envs/py3.7_nlp/lib/python3.7/site-packages/ipykernel_launcher.py:8: DataConversionWarning: A column-vector y was passed when a 1d array was expected. Please change the shape of y to (n_samples, ), for example using ravel().\n",
            "  \n",
            "/Users/yihaoli/opt/anaconda3/envs/py3.7_nlp/lib/python3.7/site-packages/ipykernel_launcher.py:8: DataConversionWarning: A column-vector y was passed when a 1d array was expected. Please change the shape of y to (n_samples, ), for example using ravel().\n",
            "  \n"
          ]
        },
        {
          "name": "stdout",
          "output_type": "stream",
          "text": [
            "best ‘n_neighbots’ is :7,best predict score is:0.8614\n"
          ]
        },
        {
          "name": "stderr",
          "output_type": "stream",
          "text": [
            "/Users/yihaoli/opt/anaconda3/envs/py3.7_nlp/lib/python3.7/site-packages/ipykernel_launcher.py:8: DataConversionWarning: A column-vector y was passed when a 1d array was expected. Please change the shape of y to (n_samples, ), for example using ravel().\n",
            "  \n",
            "/Users/yihaoli/opt/anaconda3/envs/py3.7_nlp/lib/python3.7/site-packages/ipykernel_launcher.py:8: DataConversionWarning: A column-vector y was passed when a 1d array was expected. Please change the shape of y to (n_samples, ), for example using ravel().\n",
            "  \n",
            "/Users/yihaoli/opt/anaconda3/envs/py3.7_nlp/lib/python3.7/site-packages/ipykernel_launcher.py:8: DataConversionWarning: A column-vector y was passed when a 1d array was expected. Please change the shape of y to (n_samples, ), for example using ravel().\n",
            "  \n",
            "/Users/yihaoli/opt/anaconda3/envs/py3.7_nlp/lib/python3.7/site-packages/ipykernel_launcher.py:8: DataConversionWarning: A column-vector y was passed when a 1d array was expected. Please change the shape of y to (n_samples, ), for example using ravel().\n",
            "  \n"
          ]
        }
      ],
      "source": [
        "from sklearn.model_selection import train_test_split\n",
        "x_train, x_test, y_train, y_test = train_test_split(x, y, test_size = 0.2, random_state = 0)\n",
        "from sklearn.neighbors import KNeighborsClassifier\n",
        "best_k=-1\n",
        "best_score=0\n",
        "for i in range(1,15):\n",
        "    knn_clf=KNeighborsClassifier(n_neighbors=i)\n",
        "    knn_clf.fit(x_train,y_train)\n",
        "    scores=knn_clf.score(x_test,y_test)\n",
        "    if scores>best_score:\n",
        "        best_score=scores\n",
        "        best_k=i\n",
        "print('best ‘n_neighbots’ is :%d,best predict score is:%.4f'%(best_k,best_score))"
      ]
    },
    {
      "cell_type": "markdown",
      "metadata": {
        "id": "9EBGc-Vx-iB_"
      },
      "source": [
        "改成Filter法得到的那5个变量"
      ]
    },
    {
      "cell_type": "code",
      "execution_count": null,
      "metadata": {
        "id": "eBUfYNU2-iB_",
        "outputId": "f45e1623-4757-4277-96a9-4103b10c59e8"
      },
      "outputs": [
        {
          "name": "stdout",
          "output_type": "stream",
          "text": [
            "best ‘n_neighbots’ is :10,best predict score is:0.8605\n"
          ]
        }
      ],
      "source": [
        "import numpy as np\n",
        "from sklearn.model_selection import train_test_split\n",
        "x_train, x_test, y_train, y_test = train_test_split(x_test1, y, test_size = 0.2, random_state = 0)\n",
        "best_k=-1\n",
        "best_score=0\n",
        "for i in range(1,15):\n",
        "    knn_clf=KNeighborsClassifier(n_neighbors=i)\n",
        "    knn_clf.fit(x_train,np.ravel(y_train,order='C'))\n",
        "    scores=knn_clf.score(x_test,y_test)\n",
        "    if scores>best_score:\n",
        "        best_score=scores\n",
        "        best_k=i\n",
        "print('best ‘n_neighbots’ is :%d,best predict score is:%.4f'%(best_k,best_score))\n"
      ]
    },
    {
      "cell_type": "markdown",
      "metadata": {
        "id": "Nal_pfs4-iB_"
      },
      "source": [
        "3.朴素贝叶斯"
      ]
    },
    {
      "cell_type": "code",
      "execution_count": null,
      "metadata": {
        "id": "emb5hebX-iB_",
        "outputId": "61e3d2d8-8a37-4cbd-bf76-1ed5ec433e8a"
      },
      "outputs": [
        {
          "name": "stdout",
          "output_type": "stream",
          "text": [
            "              precision    recall  f1-score   support\n",
            "\n",
            "           0       0.86      0.94      0.90       986\n",
            "           1       0.19      0.09      0.13       161\n",
            "\n",
            "    accuracy                           0.82      1147\n",
            "   macro avg       0.53      0.51      0.51      1147\n",
            "weighted avg       0.77      0.82      0.79      1147\n",
            "\n",
            "The accuracy of Naive Bayes Classifier is 0.8177855274629469\n"
          ]
        }
      ],
      "source": [
        "from sklearn.model_selection import train_test_split\n",
        "x_train, x_test, y_train, y_test = train_test_split(x, y, test_size = 0.2, random_state = 0)\n",
        "from sklearn.naive_bayes import GaussianNB\n",
        "from sklearn.metrics import classification_report\n",
        "import numpy as np\n",
        "\n",
        "gnb = GaussianNB()\n",
        "gnb.fit(x_train,np.ravel(y_train,order='C'))\n",
        "y_pre = gnb.predict((x_test))\n",
        "\n",
        "print(classification_report(y_test,y_pre))\n",
        "print('The accuracy of Naive Bayes Classifier is',gnb.score(x_test,y_test))"
      ]
    },
    {
      "cell_type": "markdown",
      "metadata": {
        "id": "ZopQbvDO-iCA"
      },
      "source": [
        "改成Filter法得到的那5个变量"
      ]
    },
    {
      "cell_type": "code",
      "execution_count": null,
      "metadata": {
        "id": "mu-sxH6n-iCA",
        "outputId": "ccd4fc51-c07c-4fb4-ecc8-e66e2d4a8ad7"
      },
      "outputs": [
        {
          "name": "stdout",
          "output_type": "stream",
          "text": [
            "              precision    recall  f1-score   support\n",
            "\n",
            "           0       0.86      0.97      0.92       986\n",
            "           1       0.26      0.06      0.09       161\n",
            "\n",
            "    accuracy                           0.84      1147\n",
            "   macro avg       0.56      0.51      0.50      1147\n",
            "weighted avg       0.78      0.84      0.80      1147\n",
            "\n",
            "The accuracy of Naive Bayes Classifier is 0.8448125544899738\n"
          ]
        }
      ],
      "source": [
        "from sklearn.model_selection import train_test_split\n",
        "x_train, x_test, y_train, y_test = train_test_split(x_test1, y, test_size = 0.2, random_state = 0)\n",
        "from sklearn.naive_bayes import GaussianNB\n",
        "from sklearn.metrics import classification_report\n",
        "import numpy as np\n",
        "\n",
        "gnb = GaussianNB()\n",
        "gnb.fit(x_train,np.ravel(y_train,order='C'))\n",
        "y_pre = gnb.predict((x_test))\n",
        "\n",
        "print(classification_report(y_test,y_pre))\n",
        "print('The accuracy of Naive Bayes Classifier is',gnb.score(x_test,y_test))"
      ]
    },
    {
      "cell_type": "markdown",
      "metadata": {
        "id": "ycrwhdX_-iCA"
      },
      "source": [
        "4.SVM"
      ]
    },
    {
      "cell_type": "code",
      "execution_count": null,
      "metadata": {
        "id": "4JU99cSW-iCA",
        "outputId": "5cc4af36-6ec7-44d8-f62a-b60d17c1e814"
      },
      "outputs": [
        {
          "name": "stdout",
          "output_type": "stream",
          "text": [
            "[LibSVM]              precision    recall  f1-score   support\n",
            "\n",
            "           0       0.86      0.98      0.92       986\n",
            "           1       0.24      0.03      0.05       161\n",
            "\n",
            "    accuracy                           0.85      1147\n",
            "   macro avg       0.55      0.51      0.49      1147\n",
            "weighted avg       0.77      0.85      0.80      1147\n",
            "\n",
            "The accuracy of DecisionTree Classifier is 0.8500435919790759\n"
          ]
        }
      ],
      "source": [
        "from sklearn.model_selection import train_test_split\n",
        "x_train, x_test, y_train, y_test = train_test_split(x, y, test_size = 0.2, random_state = 0)\n",
        "from sklearn import svm\n",
        "from sklearn.metrics import classification_report\n",
        "import numpy as np\n",
        "\n",
        "clf = svm.SVC(gamma='auto', C=10, verbose=True)\n",
        "clf.fit(x_train, np.ravel(y_train,order='C'))\n",
        "y_pred = clf.predict(x_test)\n",
        "\n",
        "print(classification_report(y_test, y_pred))\n",
        "print('The accuracy of DecisionTree Classifier is',clf.score(x_test,y_test))"
      ]
    },
    {
      "cell_type": "markdown",
      "metadata": {
        "id": "uY3WjZw9-iCA"
      },
      "source": [
        "利用GridSearchCV，可以对模型的超参空间进行搜索，选择最优的超参。(主要是gamma和C)"
      ]
    },
    {
      "cell_type": "code",
      "execution_count": null,
      "metadata": {
        "id": "Bt12FAJc-iCA",
        "outputId": "b41717b1-3b49-4492-ba8f-4fd91806cb3b"
      },
      "outputs": [
        {
          "name": "stdout",
          "output_type": "stream",
          "text": [
            "Fitting 5 folds for each of 14 candidates, totalling 70 fits\n"
          ]
        },
        {
          "name": "stderr",
          "output_type": "stream",
          "text": [
            "[Parallel(n_jobs=8)]: Using backend LokyBackend with 8 concurrent workers.\n",
            "[Parallel(n_jobs=8)]: Done  34 tasks      | elapsed:   29.5s\n",
            "[Parallel(n_jobs=8)]: Done  70 out of  70 | elapsed:  3.7min finished\n"
          ]
        },
        {
          "name": "stdout",
          "output_type": "stream",
          "text": [
            "C 0.001\n",
            "break_ties False\n",
            "cache_size 200\n",
            "class_weight None\n",
            "coef0 0.0\n",
            "decision_function_shape ovr\n",
            "degree 3\n",
            "gamma 0.001\n",
            "kernel rbf\n",
            "max_iter -1\n",
            "probability True\n",
            "random_state None\n",
            "shrinking True\n",
            "tol 0.001\n",
            "verbose False\n"
          ]
        },
        {
          "data": {
            "text/plain": [
              "SVC(C=0.001, break_ties=False, cache_size=200, class_weight=None, coef0=0.0,\n",
              "    decision_function_shape='ovr', degree=3, gamma=0.001, kernel='rbf',\n",
              "    max_iter=-1, probability=True, random_state=None, shrinking=True, tol=0.001,\n",
              "    verbose=False)"
            ]
          },
          "execution_count": 61,
          "metadata": {},
          "output_type": "execute_result"
        }
      ],
      "source": [
        "def svm_cross_validation(train_x, train_y):\n",
        "    from sklearn.model_selection import GridSearchCV\n",
        "    from sklearn.svm import SVC\n",
        "    model = SVC(kernel='rbf', probability=True)\n",
        "    param_grid = {'C': [1e-3, 1e-2, 1e-1, 1, 10, 100, 1000], 'gamma': [0.001, 0.0001]}\n",
        "    grid_search = GridSearchCV(model, param_grid, n_jobs = 8, verbose=1)\n",
        "    grid_search.fit(train_x, np.ravel(train_y,order='C'))\n",
        "    best_parameters = grid_search.best_estimator_.get_params()\n",
        "    for para, val in list(best_parameters.items()):\n",
        "        print(para, val)\n",
        "    model = SVC(kernel='rbf', C=best_parameters['C'], gamma=best_parameters['gamma'], probability=True)\n",
        "    model.fit(train_x, np.ravel(train_y,order='C'))\n",
        "    return model\n",
        "svm_cross_validation(x_train, y_train)"
      ]
    },
    {
      "cell_type": "markdown",
      "metadata": {
        "id": "n6U0faRo-iCA"
      },
      "source": [
        "调整参数后:"
      ]
    },
    {
      "cell_type": "code",
      "execution_count": null,
      "metadata": {
        "id": "dcWyaJ3T-iCA",
        "outputId": "1a4fe90a-9dd1-4b7c-bf9b-93bfc200e95b"
      },
      "outputs": [
        {
          "name": "stdout",
          "output_type": "stream",
          "text": [
            "              precision    recall  f1-score   support\n",
            "\n",
            "           0       0.86      1.00      0.92       986\n",
            "           1       1.00      0.00      0.00       161\n",
            "\n",
            "    accuracy                           0.86      1147\n",
            "   macro avg       0.93      0.50      0.46      1147\n",
            "weighted avg       0.88      0.86      0.79      1147\n",
            "\n",
            "The accuracy of DecisionTree Classifier is 0.8596338273757629\n"
          ]
        }
      ],
      "source": [
        "from sklearn.model_selection import train_test_split\n",
        "x_train, x_test, y_train, y_test = train_test_split(x, y, test_size = 0.2, random_state = 0)\n",
        "from sklearn import svm\n",
        "from sklearn.metrics import classification_report\n",
        "from sklearn.metrics import precision_score\n",
        "import numpy as np\n",
        "\n",
        "clf = svm.SVC(C=0.001, break_ties=False, cache_size=200, class_weight=None, coef0=0.0,\n",
        "    decision_function_shape='ovr', degree=3, gamma=0.001, kernel='rbf',\n",
        "    max_iter=-1, probability=True, random_state=None, shrinking=True, tol=0.001,\n",
        "    verbose=False)\n",
        "clf.fit(x_train, np.ravel(y_train,order='C'))\n",
        "y_pred = clf.predict(x_test)\n",
        "\n",
        "print(classification_report(y_test, y_pred,zero_division=1))\n",
        "print('The accuracy of DecisionTree Classifier is',clf.score(x_test,y_test))"
      ]
    },
    {
      "cell_type": "markdown",
      "metadata": {
        "id": "IX5Jt9u2-iCA"
      },
      "source": [
        "改成Filter法得到的那5个变量"
      ]
    },
    {
      "cell_type": "code",
      "execution_count": null,
      "metadata": {
        "scrolled": true,
        "id": "WWCWLzTF-iCA",
        "outputId": "99dbb3a4-5d47-40f5-ad0a-4b66c7bd50de"
      },
      "outputs": [
        {
          "name": "stdout",
          "output_type": "stream",
          "text": [
            "              precision    recall  f1-score   support\n",
            "\n",
            "           0       0.86      1.00      0.92       986\n",
            "           1       1.00      0.00      0.00       161\n",
            "\n",
            "    accuracy                           0.86      1147\n",
            "   macro avg       0.93      0.50      0.46      1147\n",
            "weighted avg       0.88      0.86      0.79      1147\n",
            "\n",
            "The accuracy of DecisionTree Classifier is 0.8596338273757629\n"
          ]
        }
      ],
      "source": [
        "from sklearn.model_selection import train_test_split\n",
        "x_train, x_test, y_train, y_test = train_test_split(x_test1, y, test_size = 0.2, random_state = 0)\n",
        "from sklearn import svm\n",
        "from sklearn.metrics import classification_report\n",
        "import numpy as np\n",
        "\n",
        "clf = svm.SVC(C=0.001, break_ties=False, cache_size=200, class_weight=None, coef0=0.0,\n",
        "    decision_function_shape='ovr', degree=3, gamma=0.001, kernel='rbf',\n",
        "    max_iter=-1, probability=True, random_state=None, shrinking=True, tol=0.001,\n",
        "    verbose=False)\n",
        "clf.fit(x_train, np.ravel(y_train,order='C'))\n",
        "y_pred = clf.predict(x_test)\n",
        "\n",
        "print(classification_report(y_test, y_pred,zero_division=1))\n",
        "print('The accuracy of DecisionTree Classifier is',clf.score(x_test,y_test))"
      ]
    },
    {
      "cell_type": "markdown",
      "metadata": {
        "id": "0OAIiSrr-iCA"
      },
      "source": [
        "5.神经网络 keras"
      ]
    },
    {
      "cell_type": "code",
      "execution_count": null,
      "metadata": {
        "id": "sIo1yYm3-iCA",
        "outputId": "52e0a2ca-a6c3-4f22-88b1-dffc205d36b5"
      },
      "outputs": [
        {
          "name": "stdout",
          "output_type": "stream",
          "text": [
            "Train on 4588 samples, validate on 1147 samples\n",
            "Epoch 1/20\n",
            "4588/4588 [==============================] - 0s 58us/step - loss: 12.3126 - accuracy: 0.7047 - val_loss: 13.4803 - val_accuracy: 0.8596\n",
            "Epoch 2/20\n",
            "4588/4588 [==============================] - 0s 6us/step - loss: 8.9573 - accuracy: 0.8143 - val_loss: 11.9700 - val_accuracy: 0.1412\n",
            "Epoch 3/20\n",
            "4588/4588 [==============================] - 0s 6us/step - loss: 4.8510 - accuracy: 0.6931 - val_loss: 3.7736 - val_accuracy: 0.8596\n",
            "Epoch 4/20\n",
            "4588/4588 [==============================] - 0s 8us/step - loss: 2.5166 - accuracy: 0.8195 - val_loss: 2.0307 - val_accuracy: 0.1595\n",
            "Epoch 5/20\n",
            "4588/4588 [==============================] - 0s 6us/step - loss: 1.2802 - accuracy: 0.6748 - val_loss: 1.1516 - val_accuracy: 0.8596\n",
            "Epoch 6/20\n",
            "4588/4588 [==============================] - 0s 7us/step - loss: 0.8128 - accuracy: 0.8160 - val_loss: 0.5973 - val_accuracy: 0.8596\n",
            "Epoch 7/20\n",
            "4588/4588 [==============================] - 0s 7us/step - loss: 0.5195 - accuracy: 0.8400 - val_loss: 0.4469 - val_accuracy: 0.8561\n",
            "Epoch 8/20\n",
            "4588/4588 [==============================] - 0s 5us/step - loss: 0.5174 - accuracy: 0.8359 - val_loss: 0.4325 - val_accuracy: 0.8596\n",
            "Epoch 9/20\n",
            "4588/4588 [==============================] - 0s 7us/step - loss: 0.4907 - accuracy: 0.8485 - val_loss: 0.4988 - val_accuracy: 0.8596\n",
            "Epoch 10/20\n",
            "4588/4588 [==============================] - 0s 8us/step - loss: 0.5297 - accuracy: 0.8413 - val_loss: 0.4636 - val_accuracy: 0.8596\n",
            "Epoch 11/20\n",
            "4588/4588 [==============================] - 0s 7us/step - loss: 0.4698 - accuracy: 0.8429 - val_loss: 0.5311 - val_accuracy: 0.8012\n",
            "Epoch 12/20\n",
            "4588/4588 [==============================] - 0s 7us/step - loss: 0.4583 - accuracy: 0.8387 - val_loss: 0.4325 - val_accuracy: 0.8596\n",
            "Epoch 13/20\n",
            "4588/4588 [==============================] - 0s 7us/step - loss: 0.4287 - accuracy: 0.8529 - val_loss: 0.4031 - val_accuracy: 0.8596\n",
            "Epoch 14/20\n",
            "4588/4588 [==============================] - 0s 6us/step - loss: 0.4432 - accuracy: 0.8455 - val_loss: 0.5880 - val_accuracy: 0.8596\n",
            "Epoch 15/20\n",
            "4588/4588 [==============================] - 0s 8us/step - loss: 0.5904 - accuracy: 0.8335 - val_loss: 0.5345 - val_accuracy: 0.8596\n",
            "Epoch 16/20\n",
            "4588/4588 [==============================] - 0s 7us/step - loss: 0.5254 - accuracy: 0.8500 - val_loss: 0.4709 - val_accuracy: 0.8596\n",
            "Epoch 17/20\n",
            "4588/4588 [==============================] - 0s 7us/step - loss: 0.4356 - accuracy: 0.8531 - val_loss: 0.4145 - val_accuracy: 0.8596\n",
            "Epoch 18/20\n",
            "4588/4588 [==============================] - 0s 6us/step - loss: 0.4179 - accuracy: 0.8529 - val_loss: 0.4154 - val_accuracy: 0.8596\n",
            "Epoch 19/20\n",
            "4588/4588 [==============================] - 0s 8us/step - loss: 0.4157 - accuracy: 0.8527 - val_loss: 0.4096 - val_accuracy: 0.8596\n",
            "Epoch 20/20\n",
            "4588/4588 [==============================] - 0s 14us/step - loss: 0.4177 - accuracy: 0.8524 - val_loss: 0.4108 - val_accuracy: 0.8596\n",
            "1147/1147 [==============================] - 0s 74us/step\n",
            "              precision    recall  f1-score   support\n",
            "\n",
            "           1       0.86      1.00      0.92       986\n",
            "           0       0.00      0.00      0.00       161\n",
            "\n",
            "    accuracy                           0.86      1147\n",
            "   macro avg       0.43      0.50      0.46      1147\n",
            "weighted avg       0.74      0.86      0.79      1147\n",
            "\n",
            "1147/1147 [==============================] - 0s 41us/step\n",
            "test loss:  0.4107831022016048\n",
            "test accuracy:  0.8596338033676147\n"
          ]
        },
        {
          "data": {
            "image/png": "[encoded data removed]",
            "text/plain": [
              "<Figure size 432x288 with 1 Axes>"
            ]
          },
          "metadata": {
            "needs_background": "light"
          },
          "output_type": "display_data"
        },
        {
          "data": {
            "image/png": "[encoded data removed]",
            "text/plain": [
              "<Figure size 432x288 with 1 Axes>"
            ]
          },
          "metadata": {
            "needs_background": "light"
          },
          "output_type": "display_data"
        },
        {
          "data": {
            "image/png": "[encoded data removed]",
            "text/plain": [
              "<Figure size 432x288 with 1 Axes>"
            ]
          },
          "metadata": {
            "needs_background": "light"
          },
          "output_type": "display_data"
        },
        {
          "ename": "TypeError",
          "evalue": "If no scoring is specified, the estimator passed should have a 'score' method. The estimator <keras.engine.sequential.Sequential object at 0x19c563650> does not.",
          "output_type": "error",
          "traceback": [
            "\u001b[0;31m---------------------------------------------------------------------------\u001b[0m",
            "\u001b[0;31mTypeError\u001b[0m                                 Traceback (most recent call last)",
            "\u001b[0;32m<ipython-input-131-33f9a4d934ce>\u001b[0m in \u001b[0;36m<module>\u001b[0;34m\u001b[0m\n\u001b[1;32m     73\u001b[0m \u001b[0mparam_grid\u001b[0m \u001b[0;34m=\u001b[0m \u001b[0mdict\u001b[0m\u001b[0;34m(\u001b[0m\u001b[0mbatch_size\u001b[0m\u001b[0;34m=\u001b[0m\u001b[0mbatch_size\u001b[0m\u001b[0;34m,\u001b[0m \u001b[0mepochs\u001b[0m\u001b[0;34m=\u001b[0m\u001b[0mepochs\u001b[0m\u001b[0;34m)\u001b[0m\u001b[0;34m\u001b[0m\u001b[0;34m\u001b[0m\u001b[0m\n\u001b[1;32m     74\u001b[0m \u001b[0mgrid\u001b[0m \u001b[0;34m=\u001b[0m \u001b[0mGridSearchCV\u001b[0m\u001b[0;34m(\u001b[0m\u001b[0mestimator\u001b[0m\u001b[0;34m=\u001b[0m\u001b[0mmodel\u001b[0m\u001b[0;34m,\u001b[0m \u001b[0mparam_grid\u001b[0m\u001b[0;34m=\u001b[0m\u001b[0mparam_grid\u001b[0m\u001b[0;34m,\u001b[0m \u001b[0mn_jobs\u001b[0m\u001b[0;34m=\u001b[0m\u001b[0;34m-\u001b[0m\u001b[0;36m1\u001b[0m\u001b[0;34m)\u001b[0m\u001b[0;34m\u001b[0m\u001b[0;34m\u001b[0m\u001b[0m\n\u001b[0;32m---> 75\u001b[0;31m \u001b[0mgrid_result\u001b[0m \u001b[0;34m=\u001b[0m \u001b[0mgrid\u001b[0m\u001b[0;34m.\u001b[0m\u001b[0mfit\u001b[0m\u001b[0;34m(\u001b[0m\u001b[0mx_train\u001b[0m\u001b[0;34m,\u001b[0m \u001b[0my_train\u001b[0m\u001b[0;34m)\u001b[0m\u001b[0;34m\u001b[0m\u001b[0;34m\u001b[0m\u001b[0m\n\u001b[0m\u001b[1;32m     76\u001b[0m \u001b[0;31m# summarize results\u001b[0m\u001b[0;34m\u001b[0m\u001b[0;34m\u001b[0m\u001b[0;34m\u001b[0m\u001b[0m\n\u001b[1;32m     77\u001b[0m \u001b[0mprint\u001b[0m\u001b[0;34m(\u001b[0m\u001b[0;34m\"Best: %f using %s\"\u001b[0m \u001b[0;34m%\u001b[0m \u001b[0;34m(\u001b[0m\u001b[0mgrid_result\u001b[0m\u001b[0;34m.\u001b[0m\u001b[0mbest_score_\u001b[0m\u001b[0;34m,\u001b[0m \u001b[0mgrid_result\u001b[0m\u001b[0;34m.\u001b[0m\u001b[0mbest_params_\u001b[0m\u001b[0;34m)\u001b[0m\u001b[0;34m)\u001b[0m\u001b[0;34m\u001b[0m\u001b[0;34m\u001b[0m\u001b[0m\n",
            "\u001b[0;32m~/opt/anaconda3/envs/py3.7_nlp/lib/python3.7/site-packages/sklearn/model_selection/_search.py\u001b[0m in \u001b[0;36mfit\u001b[0;34m(self, X, y, groups, **fit_params)\u001b[0m\n\u001b[1;32m    627\u001b[0m \u001b[0;34m\u001b[0m\u001b[0m\n\u001b[1;32m    628\u001b[0m         scorers, self.multimetric_ = _check_multimetric_scoring(\n\u001b[0;32m--> 629\u001b[0;31m             self.estimator, scoring=self.scoring)\n\u001b[0m\u001b[1;32m    630\u001b[0m \u001b[0;34m\u001b[0m\u001b[0m\n\u001b[1;32m    631\u001b[0m         \u001b[0;32mif\u001b[0m \u001b[0mself\u001b[0m\u001b[0;34m.\u001b[0m\u001b[0mmultimetric_\u001b[0m\u001b[0;34m:\u001b[0m\u001b[0;34m\u001b[0m\u001b[0;34m\u001b[0m\u001b[0m\n",
            "\u001b[0;32m~/opt/anaconda3/envs/py3.7_nlp/lib/python3.7/site-packages/sklearn/metrics/_scorer.py\u001b[0m in \u001b[0;36m_check_multimetric_scoring\u001b[0;34m(estimator, scoring)\u001b[0m\n\u001b[1;32m    471\u001b[0m     if callable(scoring) or scoring is None or isinstance(scoring,\n\u001b[1;32m    472\u001b[0m                                                           str):\n\u001b[0;32m--> 473\u001b[0;31m         \u001b[0mscorers\u001b[0m \u001b[0;34m=\u001b[0m \u001b[0;34m{\u001b[0m\u001b[0;34m\"score\"\u001b[0m\u001b[0;34m:\u001b[0m \u001b[0mcheck_scoring\u001b[0m\u001b[0;34m(\u001b[0m\u001b[0mestimator\u001b[0m\u001b[0;34m,\u001b[0m \u001b[0mscoring\u001b[0m\u001b[0;34m=\u001b[0m\u001b[0mscoring\u001b[0m\u001b[0;34m)\u001b[0m\u001b[0;34m}\u001b[0m\u001b[0;34m\u001b[0m\u001b[0;34m\u001b[0m\u001b[0m\n\u001b[0m\u001b[1;32m    474\u001b[0m         \u001b[0;32mreturn\u001b[0m \u001b[0mscorers\u001b[0m\u001b[0;34m,\u001b[0m \u001b[0;32mFalse\u001b[0m\u001b[0;34m\u001b[0m\u001b[0;34m\u001b[0m\u001b[0m\n\u001b[1;32m    475\u001b[0m     \u001b[0;32melse\u001b[0m\u001b[0;34m:\u001b[0m\u001b[0;34m\u001b[0m\u001b[0;34m\u001b[0m\u001b[0m\n",
            "\u001b[0;32m~/opt/anaconda3/envs/py3.7_nlp/lib/python3.7/site-packages/sklearn/metrics/_scorer.py\u001b[0m in \u001b[0;36mcheck_scoring\u001b[0;34m(estimator, scoring, allow_none)\u001b[0m\n\u001b[1;32m    424\u001b[0m                 \u001b[0;34m\"If no scoring is specified, the estimator passed should \"\u001b[0m\u001b[0;34m\u001b[0m\u001b[0;34m\u001b[0m\u001b[0m\n\u001b[1;32m    425\u001b[0m                 \u001b[0;34m\"have a 'score' method. The estimator %r does not.\"\u001b[0m\u001b[0;34m\u001b[0m\u001b[0;34m\u001b[0m\u001b[0m\n\u001b[0;32m--> 426\u001b[0;31m                 % estimator)\n\u001b[0m\u001b[1;32m    427\u001b[0m     \u001b[0;32melif\u001b[0m \u001b[0misinstance\u001b[0m\u001b[0;34m(\u001b[0m\u001b[0mscoring\u001b[0m\u001b[0;34m,\u001b[0m \u001b[0mIterable\u001b[0m\u001b[0;34m)\u001b[0m\u001b[0;34m:\u001b[0m\u001b[0;34m\u001b[0m\u001b[0;34m\u001b[0m\u001b[0m\n\u001b[1;32m    428\u001b[0m         raise ValueError(\"For evaluating multiple scores, use \"\n",
            "\u001b[0;31mTypeError\u001b[0m: If no scoring is specified, the estimator passed should have a 'score' method. The estimator <keras.engine.sequential.Sequential object at 0x19c563650> does not."
          ]
        }
      ],
      "source": [
        "from keras.layers import Dense,LSTM,Dropout\n",
        "from keras.models import Sequential\n",
        "from keras import optimizers\n",
        "from sklearn import metrics\n",
        "\n",
        "model = Sequential()\n",
        "model.add(Dense(15, input_dim = 15, activation = 'relu'))\n",
        "model.add(Dense(32, activation = 'relu'))\n",
        "model.add(Dense(16, activation = 'relu'))\n",
        "model.add(Dense(1, activation = 'sigmoid'))\n",
        "model.compile(optimizer = optimizers.adam(lr = 0.01),\n",
        "    loss = 'binary_crossentropy',\n",
        "    metrics = ['accuracy'])\n",
        "\n",
        "history = model.fit(x_train, y_train, epochs = 20, batch_size = 512, validation_data = (x_test, y_test))\n",
        "\n",
        "y_pred = model.predict_classes(x_test, batch_size = 20, verbose = 1)\n",
        "target_names = ['1', '0']\n",
        "print(metrics.classification_report(y_test, y_pred,\n",
        "    target_names = target_names))\n",
        "\n",
        "history_dict = history.history\n",
        "loss, accuracy = model.evaluate(x_test, y_test)\n",
        "\n",
        "print('test loss: ', loss)\n",
        "print('test accuracy: ', accuracy)\n",
        "\n",
        "history_dict = history.history\n",
        "loss_values = history_dict['loss']\n",
        "val_loss_values = history_dict['val_loss']\n",
        "epochs = range(1, len(acc) + 1)\n",
        "\n",
        "plt.plot(epochs, loss_values, 'bo', label = 'Training loss')\n",
        "plt.plot(epochs, val_loss_values, 'b', label = 'Validation loss')\n",
        "plt.title('Training and validation loss')\n",
        "plt.xlabel('Epochs')\n",
        "plt.ylabel('Loss')\n",
        "plt.legend()\n",
        "plt.show()#\n",
        "acc_values = history_dict['accuracy']\n",
        "val_acc_values = history_dict['val_accuracy']\n",
        "\n",
        "plt.plot(epochs, acc_values, 'bo', label = 'Training acc')\n",
        "plt.plot(epochs, val_acc_values, 'b', label = 'Validation acc')\n",
        "plt.title('Training and validation accuracy')\n",
        "plt.xlabel('Epochs')\n",
        "plt.ylabel('Acc')\n",
        "plt.legend()\n",
        "plt.show()\n",
        "\n",
        "from sklearn.metrics import roc_curve, auc\n",
        "\n",
        "y_pred_keras = model.predict(x_test).ravel()\n",
        "fpr, tpr, threshold = roc_curve(y_test, y_pred_keras)\n",
        "roc_auc = auc(fpr,tpr)\n",
        "plt.plot(fpr, tpr, 'b', label='Keras AUC = %0.2f' % roc_auc)\n",
        "plt.legend(loc='lower right')\n",
        "plt.plot([0, 1], [0, 1], 'r--')\n",
        "plt.xlabel('False Positive Rate')\n",
        "plt.ylabel('True Positive Rate')\n",
        "plt.show()"
      ]
    },
    {
      "cell_type": "code",
      "execution_count": null,
      "metadata": {
        "id": "-_H8hmZ7-iCB"
      },
      "outputs": [],
      "source": []
    }
  ],
  "metadata": {
    "kernelspec": {
      "display_name": "Python 3",
      "language": "python",
      "name": "python3"
    },
    "language_info": {
      "codemirror_mode": {
        "name": "ipython",
        "version": 3
      },
      "file_extension": ".py",
      "mimetype": "text/x-python",
      "name": "python",
      "nbconvert_exporter": "python",
      "pygments_lexer": "ipython3",
      "version": "3.7.5"
    },
    "colab": {
      "provenance": [],
      "include_colab_link": true
    }
  },
  "nbformat": 4,
  "nbformat_minor": 0
}